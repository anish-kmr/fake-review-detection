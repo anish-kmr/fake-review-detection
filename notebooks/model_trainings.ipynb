{
  "nbformat": 4,
  "nbformat_minor": 0,
  "metadata": {
    "accelerator": "GPU",
    "colab": {
      "name": "start_over.ipynb",
      "provenance": [],
      "collapsed_sections": []
    },
    "kernelspec": {
      "display_name": "Python 3",
      "name": "python3"
    }
  },
  "cells": [
    {
      "cell_type": "code",
      "metadata": {
        "id": "LoaIbrwAsEAj",
        "outputId": "6661c15a-1261-4762-c0ac-7eede6749671",
        "colab": {
          "base_uri": "https://localhost:8080/",
          "height": 33
        }
      },
      "source": [
        "from google.colab import drive\n",
        "drive.mount('/content/gdrive')\n",
        "dataset_path='/content/gdrive/My Drive/minor/datasets/'\n",
        "model_path='/content/gdrive/My Drive/minor/models/'\n"
      ],
      "execution_count": null,
      "outputs": [
        {
          "output_type": "stream",
          "text": [
            "Mounted at /content/gdrive\n"
          ],
          "name": "stdout"
        }
      ]
    },
    {
      "cell_type": "code",
      "metadata": {
        "id": "u9oWPTpRscaH",
        "outputId": "10eb722f-c566-4d4f-dc45-f68fc4f2d336",
        "colab": {
          "base_uri": "https://localhost:8080/",
          "height": 66
        }
      },
      "source": [
        "import pandas as pd\n",
        "import numpy as np\n",
        "from tqdm import tqdm\n",
        "import nltk\n",
        "from nltk.corpus import stopwords\n",
        "\n",
        "from sklearn.model_selection import train_test_split\n",
        "from keras.preprocessing.text import Tokenizer\n",
        "from keras.preprocessing.sequence import pad_sequences\n",
        "from gensim.models import Word2Vec\n",
        "from nltk.stem import SnowballStemmer\n",
        "from sklearn.utils import class_weight\n",
        "\n",
        "nltk.download('stopwords')"
      ],
      "execution_count": null,
      "outputs": [
        {
          "output_type": "stream",
          "text": [
            "[nltk_data] Downloading package stopwords to /root/nltk_data...\n",
            "[nltk_data]   Package stopwords is already up-to-date!\n"
          ],
          "name": "stdout"
        },
        {
          "output_type": "execute_result",
          "data": {
            "text/plain": [
              "True"
            ]
          },
          "metadata": {
            "tags": []
          },
          "execution_count": 3
        }
      ]
    },
    {
      "cell_type": "code",
      "metadata": {
        "id": "AomaeJ_EsuuE",
        "outputId": "47a8e04e-d1ae-4103-ebf4-ef4a0e885d3e",
        "colab": {
          "base_uri": "https://localhost:8080/",
          "height": 204
        }
      },
      "source": [
        ""
      ],
      "execution_count": null,
      "outputs": [
        {
          "output_type": "execute_result",
          "data": {
            "text/html": [
              "<div>\n",
              "<style scoped>\n",
              "    .dataframe tbody tr th:only-of-type {\n",
              "        vertical-align: middle;\n",
              "    }\n",
              "\n",
              "    .dataframe tbody tr th {\n",
              "        vertical-align: top;\n",
              "    }\n",
              "\n",
              "    .dataframe thead th {\n",
              "        text-align: right;\n",
              "    }\n",
              "</style>\n",
              "<table border=\"1\" class=\"dataframe\">\n",
              "  <thead>\n",
              "    <tr style=\"text-align: right;\">\n",
              "      <th></th>\n",
              "      <th>label</th>\n",
              "      <th>review</th>\n",
              "    </tr>\n",
              "  </thead>\n",
              "  <tbody>\n",
              "    <tr>\n",
              "      <th>0</th>\n",
              "      <td>1</td>\n",
              "      <td>Go until jurong point, crazy.. Available only ...</td>\n",
              "    </tr>\n",
              "    <tr>\n",
              "      <th>1</th>\n",
              "      <td>1</td>\n",
              "      <td>Ok lar... Joking wif u oni...</td>\n",
              "    </tr>\n",
              "    <tr>\n",
              "      <th>2</th>\n",
              "      <td>0</td>\n",
              "      <td>Free entry in 2 a wkly comp to win FA Cup fina...</td>\n",
              "    </tr>\n",
              "    <tr>\n",
              "      <th>3</th>\n",
              "      <td>1</td>\n",
              "      <td>U dun say so early hor... U c already then say...</td>\n",
              "    </tr>\n",
              "    <tr>\n",
              "      <th>4</th>\n",
              "      <td>1</td>\n",
              "      <td>Nah I don't think he goes to usf, he lives aro...</td>\n",
              "    </tr>\n",
              "  </tbody>\n",
              "</table>\n",
              "</div>"
            ],
            "text/plain": [
              "  label                                             review\n",
              "0     1  Go until jurong point, crazy.. Available only ...\n",
              "1     1                      Ok lar... Joking wif u oni...\n",
              "2     0  Free entry in 2 a wkly comp to win FA Cup fina...\n",
              "3     1  U dun say so early hor... U c already then say...\n",
              "4     1  Nah I don't think he goes to usf, he lives aro..."
            ]
          },
          "metadata": {
            "tags": []
          },
          "execution_count": 159
        }
      ]
    },
    {
      "cell_type": "code",
      "metadata": {
        "id": "gSLKPwvEar9X",
        "outputId": "1fa6416b-5b52-4ca6-b8eb-0b1a7f4ffc76",
        "colab": {
          "base_uri": "https://localhost:8080/",
          "height": 191
        }
      },
      "source": [
        "df = pd.read_csv(dataset_path+'/formatted/YelpNYC_1.csv')\n",
        "df.head()"
      ],
      "execution_count": null,
      "outputs": [
        {
          "output_type": "execute_result",
          "data": {
            "text/html": [
              "<div>\n",
              "<style scoped>\n",
              "    .dataframe tbody tr th:only-of-type {\n",
              "        vertical-align: middle;\n",
              "    }\n",
              "\n",
              "    .dataframe tbody tr th {\n",
              "        vertical-align: top;\n",
              "    }\n",
              "\n",
              "    .dataframe thead th {\n",
              "        text-align: right;\n",
              "    }\n",
              "</style>\n",
              "<table border=\"1\" class=\"dataframe\">\n",
              "  <thead>\n",
              "    <tr style=\"text-align: right;\">\n",
              "      <th></th>\n",
              "      <th>review</th>\n",
              "      <th>label</th>\n",
              "    </tr>\n",
              "  </thead>\n",
              "  <tbody>\n",
              "    <tr>\n",
              "      <th>0</th>\n",
              "      <td>Hearty, no messing, Italian fare. Had a. Great...</td>\n",
              "      <td>1</td>\n",
              "    </tr>\n",
              "    <tr>\n",
              "      <th>1</th>\n",
              "      <td>You want Italian, and I mean homemade italian,...</td>\n",
              "      <td>1</td>\n",
              "    </tr>\n",
              "    <tr>\n",
              "      <th>2</th>\n",
              "      <td>FINALLY FINALLY FINALLY I found a great brick ...</td>\n",
              "      <td>1</td>\n",
              "    </tr>\n",
              "    <tr>\n",
              "      <th>3</th>\n",
              "      <td>I was so happy to find this gem! The restauran...</td>\n",
              "      <td>1</td>\n",
              "    </tr>\n",
              "    <tr>\n",
              "      <th>4</th>\n",
              "      <td>Can't say much that isnt said in the over 2000...</td>\n",
              "      <td>1</td>\n",
              "    </tr>\n",
              "  </tbody>\n",
              "</table>\n",
              "</div>"
            ],
            "text/plain": [
              "                                              review  label\n",
              "0  Hearty, no messing, Italian fare. Had a. Great...      1\n",
              "1  You want Italian, and I mean homemade italian,...      1\n",
              "2  FINALLY FINALLY FINALLY I found a great brick ...      1\n",
              "3  I was so happy to find this gem! The restauran...      1\n",
              "4  Can't say much that isnt said in the over 2000...      1"
            ]
          },
          "metadata": {
            "tags": []
          },
          "execution_count": 4
        }
      ]
    },
    {
      "cell_type": "code",
      "metadata": {
        "id": "PEX6w4rmRi-g",
        "outputId": "6d27eb1a-8b0f-404a-e547-202f066f96b9",
        "colab": {
          "base_uri": "https://localhost:8080/",
          "height": 66
        }
      },
      "source": [
        "df['label'].value_counts()"
      ],
      "execution_count": null,
      "outputs": [
        {
          "output_type": "execute_result",
          "data": {
            "text/plain": [
              "1    322097\n",
              "0     36860\n",
              "Name: label, dtype: int64"
            ]
          },
          "metadata": {
            "tags": []
          },
          "execution_count": 5
        }
      ]
    },
    {
      "cell_type": "code",
      "metadata": {
        "id": "1PWWYKpGtw6A",
        "outputId": "099edced-189a-4a8e-d85b-bddcc988c874",
        "colab": {
          "base_uri": "https://localhost:8080/",
          "height": 66
        }
      },
      "source": [
        "fake_df = df[df['label']==0]\n",
        "replicated_df = pd.concat([fake_df]*7,ignore_index=True)\n",
        "replicated_df = replicated_df.sample(frac=1)\n",
        "replicated_df.describe()\n",
        "bal_df = pd.concat([replicated_df,df],ignore_index=True).sample(frac=1)\n",
        "bal_df['label'].value_counts()"
      ],
      "execution_count": null,
      "outputs": [
        {
          "output_type": "execute_result",
          "data": {
            "text/plain": [
              "1    322097\n",
              "0    294880\n",
              "Name: label, dtype: int64"
            ]
          },
          "metadata": {
            "tags": []
          },
          "execution_count": 6
        }
      ]
    },
    {
      "cell_type": "code",
      "metadata": {
        "id": "IR1wYvuUt5WW"
      },
      "source": [
        "regex_tokenizer = nltk.RegexpTokenizer(r\"[^_\\W]+\")\n",
        "english_stopwords = set(stopwords.words('english'))\n",
        "def clean(dataframe):\n",
        "  reviews=[]\n",
        "  labels=[]\n",
        "  for index,row in tqdm(dataframe.iterrows(),total=len(dataframe)):\n",
        "      review,label = row['review'],row['label']\n",
        "      review = review.lower()\n",
        "      words = regex_tokenizer.tokenize(review)\n",
        "      words = list(filter(lambda word: word not in english_stopwords , words))\n",
        "      reviews.append(' '.join(words))\n",
        "      labels.append(label)\n",
        "  return pd.DataFrame({'review':reviews,'label':labels})"
      ],
      "execution_count": null,
      "outputs": []
    },
    {
      "cell_type": "code",
      "metadata": {
        "id": "iWw57kzYveBY",
        "outputId": "9222df8f-1c22-4e2d-dbe0-e8f55557e134",
        "colab": {
          "base_uri": "https://localhost:8080/",
          "height": 207
        }
      },
      "source": [
        "cdf = clean(bal_df)\n",
        "cdf.head()"
      ],
      "execution_count": null,
      "outputs": [
        {
          "output_type": "stream",
          "text": [
            "100%|██████████| 616977/616977 [01:19<00:00, 7735.79it/s]\n"
          ],
          "name": "stderr"
        },
        {
          "output_type": "execute_result",
          "data": {
            "text/html": [
              "<div>\n",
              "<style scoped>\n",
              "    .dataframe tbody tr th:only-of-type {\n",
              "        vertical-align: middle;\n",
              "    }\n",
              "\n",
              "    .dataframe tbody tr th {\n",
              "        vertical-align: top;\n",
              "    }\n",
              "\n",
              "    .dataframe thead th {\n",
              "        text-align: right;\n",
              "    }\n",
              "</style>\n",
              "<table border=\"1\" class=\"dataframe\">\n",
              "  <thead>\n",
              "    <tr style=\"text-align: right;\">\n",
              "      <th></th>\n",
              "      <th>review</th>\n",
              "      <th>label</th>\n",
              "    </tr>\n",
              "  </thead>\n",
              "  <tbody>\n",
              "    <tr>\n",
              "      <th>0</th>\n",
              "      <td>one favorites great food ambiance service</td>\n",
              "      <td>0</td>\n",
              "    </tr>\n",
              "    <tr>\n",
              "      <th>1</th>\n",
              "      <td>place unbelievable true authentic mediterranea...</td>\n",
              "      <td>0</td>\n",
              "    </tr>\n",
              "    <tr>\n",
              "      <th>2</th>\n",
              "      <td>pleasant experience indeed guy friend came fir...</td>\n",
              "      <td>0</td>\n",
              "    </tr>\n",
              "    <tr>\n",
              "      <th>3</th>\n",
              "      <td>best crostini face planet could eat everyday</td>\n",
              "      <td>0</td>\n",
              "    </tr>\n",
              "    <tr>\n",
              "      <th>4</th>\n",
              "      <td>think place trying sort like combo sweatleaf i...</td>\n",
              "      <td>1</td>\n",
              "    </tr>\n",
              "  </tbody>\n",
              "</table>\n",
              "</div>"
            ],
            "text/plain": [
              "                                              review  label\n",
              "0          one favorites great food ambiance service      0\n",
              "1  place unbelievable true authentic mediterranea...      0\n",
              "2  pleasant experience indeed guy friend came fir...      0\n",
              "3       best crostini face planet could eat everyday      0\n",
              "4  think place trying sort like combo sweatleaf i...      1"
            ]
          },
          "metadata": {
            "tags": []
          },
          "execution_count": 8
        }
      ]
    },
    {
      "cell_type": "code",
      "metadata": {
        "id": "GyGn5iinvj8d",
        "outputId": "020437e7-e9c8-4287-9fd8-5e8edff6cea5",
        "colab": {
          "base_uri": "https://localhost:8080/",
          "height": 147
        }
      },
      "source": [
        "train,test = train_test_split(cdf,test_size=0.3)\n",
        "print(\"Train :\\n\",train['label'].value_counts(),\"\\nTest :\\n\", test['label'].value_counts())"
      ],
      "execution_count": null,
      "outputs": [
        {
          "output_type": "stream",
          "text": [
            "Train :\n",
            " 1    225435\n",
            "0    206448\n",
            "Name: label, dtype: int64 \n",
            "Test :\n",
            " 1    96662\n",
            "0    88432\n",
            "Name: label, dtype: int64\n"
          ],
          "name": "stdout"
        }
      ]
    },
    {
      "cell_type": "code",
      "metadata": {
        "id": "aZBPIGxfzrSO",
        "outputId": "6f6ba7b6-8725-4632-b9e9-c0ec6d5d14cb",
        "colab": {
          "base_uri": "https://localhost:8080/",
          "height": 131
        }
      },
      "source": [
        "embedding_dim = 100\n",
        "reviews = []\n",
        "labels=[]\n",
        "for index,row in tqdm(train.iterrows(),total=len(train)):\n",
        "  reviews.append(row['review'].split(' '))\n",
        "  labels.append(row['label'])\n",
        "print(train.head())"
      ],
      "execution_count": null,
      "outputs": [
        {
          "output_type": "stream",
          "text": [
            "100%|██████████| 431883/431883 [00:37<00:00, 11455.08it/s]"
          ],
          "name": "stderr"
        },
        {
          "output_type": "stream",
          "text": [
            "                                                   review  label\n",
            "216353      save time money go bodega buy gallon oil chug      1\n",
            "611939  food disappointing foie gras texture bit grain...      1\n",
            "435148  hostess rude waitress come often although food...      0\n",
            "527167  times food fine service absolutly nothing spec...      0\n",
            "176380  eat one word kangaroo service point decor ador...      1\n"
          ],
          "name": "stdout"
        },
        {
          "output_type": "stream",
          "text": [
            "\n"
          ],
          "name": "stderr"
        }
      ]
    },
    {
      "cell_type": "code",
      "metadata": {
        "id": "8mkPQThSqgku"
      },
      "source": [
        "train_df = train"
      ],
      "execution_count": null,
      "outputs": []
    },
    {
      "cell_type": "code",
      "metadata": {
        "id": "GjDFbNBYwhZm"
      },
      "source": [
        "word2vec_model = Word2Vec(\n",
        "    reviews,\n",
        "    window=5,\n",
        "    min_count=10,\n",
        "    size=embedding_dim,\n",
        "    sg=1,\n",
        "    compute_loss=True\n",
        ")"
      ],
      "execution_count": null,
      "outputs": []
    },
    {
      "cell_type": "code",
      "metadata": {
        "id": "yoRyFZkOvgBx"
      },
      "source": [
        "embedding_matrix = np.load(model_path+'embedding_matrix.npy')\n",
        "vocab_size=embedding_matrix.shape[0]"
      ],
      "execution_count": null,
      "outputs": []
    },
    {
      "cell_type": "code",
      "metadata": {
        "id": "vVMEVuUdzFiv"
      },
      "source": [
        "# vocab_size = len(word2vec_model.wv.vocab)+1\n",
        "texts = [' '.join(sentance) for sentance in reviews]"
      ],
      "execution_count": null,
      "outputs": []
    },
    {
      "cell_type": "code",
      "metadata": {
        "id": "s44WQ1Idx5Ak"
      },
      "source": [
        "vocabulary_tokenizer = Tokenizer(num_words= vocab_size)\n",
        "vocabulary_tokenizer.fit_on_texts(texts)"
      ],
      "execution_count": null,
      "outputs": []
    },
    {
      "cell_type": "code",
      "metadata": {
        "id": "4VeYqDp10XHa",
        "outputId": "0c285985-4a53-4ab9-80f6-fcf17edabca0",
        "colab": {
          "base_uri": "https://localhost:8080/",
          "height": 33
        }
      },
      "source": [
        "len(vocabulary_tokenizer.word_index),vocab_size"
      ],
      "execution_count": null,
      "outputs": [
        {
          "output_type": "execute_result",
          "data": {
            "text/plain": [
              "(110152, 31374)"
            ]
          },
          "metadata": {
            "tags": []
          },
          "execution_count": 15
        }
      ]
    },
    {
      "cell_type": "code",
      "metadata": {
        "id": "KHaLxUnuzx1d"
      },
      "source": [
        "import pickle\n",
        "\n",
        "# saving\n",
        "with open(model_path+'tokenizer.pickle', 'wb') as handle:\n",
        "    pickle.dump(vocabulary_tokenizer, handle, protocol=pickle.HIGHEST_PROTOCOL)\n"
      ],
      "execution_count": null,
      "outputs": []
    },
    {
      "cell_type": "code",
      "metadata": {
        "id": "iz998Bx90nB-"
      },
      "source": [
        "\n",
        "# loading\n",
        "with open(model_path+'tokenizer.pickle', 'rb') as handle:\n",
        "    tokenizer = pickle.load(handle)"
      ],
      "execution_count": null,
      "outputs": []
    },
    {
      "cell_type": "code",
      "metadata": {
        "id": "HBOQFuRrTQzz",
        "outputId": "621953b0-011e-4560-fa81-09b82b17479f",
        "colab": {
          "base_uri": "https://localhost:8080/",
          "height": 281
        }
      },
      "source": [
        "length=[]\n",
        "for text in texts:\n",
        "  length.append(len(text))\n",
        "length = np.array(length)\n",
        "len_df = pd.DataFrame({'len':length})\n",
        "len_df['len'].plot.hist(xlim=(0,500),bins=800)"
      ],
      "execution_count": null,
      "outputs": [
        {
          "output_type": "execute_result",
          "data": {
            "text/plain": [
              "<matplotlib.axes._subplots.AxesSubplot at 0x7f0208b30eb8>"
            ]
          },
          "metadata": {
            "tags": []
          },
          "execution_count": 63
        },
        {
          "output_type": "display_data",
          "data": {
            "image/png": "[encoded data removed]",
            "text/plain": [
              "<Figure size 432x288 with 1 Axes>"
            ]
          },
          "metadata": {
            "tags": [],
            "needs_background": "light"
          }
        }
      ]
    },
    {
      "cell_type": "code",
      "metadata": {
        "id": "Kcemu7jS0a3g"
      },
      "source": [
        "sequences = vocabulary_tokenizer.texts_to_sequences(texts)\n",
        "preprocessed_data = pad_sequences(sequences,padding='post',maxlen=300)"
      ],
      "execution_count": null,
      "outputs": []
    },
    {
      "cell_type": "code",
      "metadata": {
        "id": "5Wn-4Gmt1io9",
        "outputId": "eb65c5e0-03ba-41ea-a1c0-2e3284eb954b",
        "colab": {
          "base_uri": "https://localhost:8080/",
          "height": 50
        }
      },
      "source": [
        "embedding_matrix = np.zeros([vocab_size,embedding_dim])\n",
        "for word, index in vocabulary_tokenizer.word_index.items():\n",
        "    if index > vocab_size:\n",
        "        break\n",
        "    else:\n",
        "      try:\n",
        "        embedding = word2vec_model.wv.__getitem__(word)\n",
        "        if embedding is not None:\n",
        "          embedding_matrix[index] = embedding\n",
        "      \n",
        "      except:\n",
        "        print(word,' not in vocab')\n",
        "        pass\n",
        "      "
      ],
      "execution_count": null,
      "outputs": [
        {
          "output_type": "stream",
          "text": [
            "dece  not in vocab\n",
            "beause  not in vocab\n"
          ],
          "name": "stdout"
        }
      ]
    },
    {
      "cell_type": "code",
      "metadata": {
        "id": "E6IWjd5wgHbu"
      },
      "source": [
        "np.save(\"/content/gdrive/My Drive/minor/full_embedding_matrix.npy\",embedding_matrix)"
      ],
      "execution_count": null,
      "outputs": []
    },
    {
      "cell_type": "code",
      "metadata": {
        "id": "HVCAAFX42hJK",
        "outputId": "feeacdb9-e711-490c-908c-99b8e33d0a40",
        "colab": {
          "base_uri": "https://localhost:8080/",
          "height": 33
        }
      },
      "source": [
        "embedding_matrix.shape"
      ],
      "execution_count": null,
      "outputs": [
        {
          "output_type": "execute_result",
          "data": {
            "text/plain": [
              "(31398, 100)"
            ]
          },
          "metadata": {
            "tags": []
          },
          "execution_count": 66
        }
      ]
    },
    {
      "cell_type": "code",
      "metadata": {
        "id": "EUByNyCj2y9w"
      },
      "source": [
        "from keras.models import Sequential\n",
        "from keras.layers import Dense, Flatten, LSTM, Conv1D, MaxPooling1D, Dropout, Activation, Flatten, GlobalAveragePooling1D\n",
        "from keras.layers.embeddings import Embedding\n",
        "from tensorflow.keras.metrics import Precision, Recall\n"
      ],
      "execution_count": null,
      "outputs": []
    },
    {
      "cell_type": "code",
      "metadata": {
        "id": "xn-A44YJ3CVa"
      },
      "source": [
        "model = Sequential()\n",
        "model.add(Embedding(\n",
        "        vocab_size,\n",
        "        embedding_dim,\n",
        "        input_length=preprocessed_data.shape[1],\n",
        "        weights=[embedding_matrix],\n",
        "        trainable=False\n",
        "    ))"
      ],
      "execution_count": null,
      "outputs": []
    },
    {
      "cell_type": "code",
      "metadata": {
        "id": "CKcPADY_3SCj",
        "outputId": "37c68312-1b88-4a9a-8f6b-a8df222b3e70",
        "colab": {
          "base_uri": "https://localhost:8080/",
          "height": 228
        }
      },
      "source": [
        "tr = np.array([preprocessed_data[0]]).reshape(1,300)\n",
        "pr=model.predict(tr)\n",
        "pr[0]"
      ],
      "execution_count": null,
      "outputs": [
        {
          "output_type": "execute_result",
          "data": {
            "text/plain": [
              "array([[-0.01673118,  0.22587611,  0.24018362, ...,  0.08449297,\n",
              "        -0.09423019,  0.20281987],\n",
              "       [-0.172545  ,  0.08351269,  0.39916617, ..., -0.2022504 ,\n",
              "         0.03856146, -0.06490614],\n",
              "       [-0.45716292, -0.53706557,  0.3825397 , ...,  0.03265129,\n",
              "        -0.2612426 ,  0.37708083],\n",
              "       ...,\n",
              "       [ 0.        ,  0.        ,  0.        , ...,  0.        ,\n",
              "         0.        ,  0.        ],\n",
              "       [ 0.        ,  0.        ,  0.        , ...,  0.        ,\n",
              "         0.        ,  0.        ],\n",
              "       [ 0.        ,  0.        ,  0.        , ...,  0.        ,\n",
              "         0.        ,  0.        ]], dtype=float32)"
            ]
          },
          "metadata": {
            "tags": []
          },
          "execution_count": 69
        }
      ]
    },
    {
      "cell_type": "code",
      "metadata": {
        "id": "YkJ4sdkq3Y7b",
        "outputId": "fdba3865-669f-4506-e947-cfe0fa6e9cb8",
        "colab": {
          "base_uri": "https://localhost:8080/",
          "height": 342
        }
      },
      "source": [
        "embedding_matrix[preprocessed_data[0][0]]"
      ],
      "execution_count": null,
      "outputs": [
        {
          "output_type": "execute_result",
          "data": {
            "text/plain": [
              "array([-0.01673118,  0.22587611,  0.24018362,  0.26144513,  0.28515974,\n",
              "       -0.22089688,  0.08501896,  0.01136673,  0.01401406,  0.24100496,\n",
              "        0.28529418,  0.42856589,  0.06661099,  0.2775799 , -0.09756193,\n",
              "       -0.35553131, -0.06170885, -0.21256505, -0.12761185,  0.12392813,\n",
              "       -0.09499884,  0.36558366,  0.3237938 , -0.6592288 ,  0.26053113,\n",
              "        0.1276392 ,  0.46011272,  0.54502344, -0.08210994,  0.06332767,\n",
              "        0.26563108, -0.16357368,  0.61031103,  0.27942529,  0.3158555 ,\n",
              "       -0.17161539,  0.27342334,  0.05842378, -0.07692351,  0.45842868,\n",
              "       -0.5925529 ,  0.47288921,  0.30448359,  0.26602796, -0.07706647,\n",
              "       -0.10305639,  0.05766195,  0.25030422,  0.41912708,  0.06006414,\n",
              "        0.07768683, -0.12304123,  0.81617457, -0.7818796 ,  0.5307157 ,\n",
              "       -0.53584355, -0.07117236,  0.5342288 ,  0.3697024 , -0.27447626,\n",
              "        0.1361654 , -0.20486212,  0.63219577,  0.22927187, -0.64812273,\n",
              "        0.03761626, -0.06658813,  0.03731691,  0.1659669 ,  0.07613495,\n",
              "        0.67213196, -0.06216722, -0.38365808,  0.20560367,  0.18481193,\n",
              "        0.36801416,  0.24727654, -0.05013117,  0.05145694,  0.46758401,\n",
              "       -0.5651533 ,  0.06052432,  0.24636705,  0.37284184, -0.11444284,\n",
              "        0.32867581,  0.55299038,  0.71091944,  0.25605321, -0.08929601,\n",
              "        0.30692741, -0.15473928,  0.16126369, -0.34747094, -0.296904  ,\n",
              "       -0.39026105, -0.05548192,  0.08449297, -0.09423019,  0.20281987])"
            ]
          },
          "metadata": {
            "tags": []
          },
          "execution_count": 70
        }
      ]
    },
    {
      "cell_type": "code",
      "metadata": {
        "id": "D35mnCie3nJ7",
        "outputId": "9dd9d381-0e1f-4cdd-8f9d-adb83bf7f480",
        "colab": {
          "base_uri": "https://localhost:8080/",
          "height": 1000
        }
      },
      "source": [
        "def create_model():\n",
        "    model_conv = Sequential()\n",
        "    model_conv.add(Embedding(vocab_size, embedding_dim, input_length=preprocessed_data.shape[1],weights=[embedding_matrix], trainable=False))\n",
        "    model_conv.add(Conv1D(32, 5, activation='relu'))\n",
        "    model_conv.add(LSTM(32))\n",
        "    model_conv.add(Dense(1, activation='sigmoid'))\n",
        "    model_conv.compile(loss='binary_crossentropy', optimizer='rmsprop', metrics=['accuracy',Precision(),Recall()])\n",
        "    return model_conv\n",
        "model = create_model()\n",
        "model.summary()\n",
        "model.fit(preprocessed_data, np.array(labels), batch_size=200 ,validation_split=0.3,epochs = 20)"
      ],
      "execution_count": null,
      "outputs": [
        {
          "output_type": "stream",
          "text": [
            "Model: \"sequential_1\"\n",
            "_________________________________________________________________\n",
            "Layer (type)                 Output Shape              Param #   \n",
            "=================================================================\n",
            "embedding_1 (Embedding)      (None, 300, 100)          3139800   \n",
            "_________________________________________________________________\n",
            "conv1d (Conv1D)              (None, 296, 32)           16032     \n",
            "_________________________________________________________________\n",
            "lstm (LSTM)                  (None, 32)                8320      \n",
            "_________________________________________________________________\n",
            "dense (Dense)                (None, 1)                 33        \n",
            "=================================================================\n",
            "Total params: 3,164,185\n",
            "Trainable params: 24,385\n",
            "Non-trainable params: 3,139,800\n",
            "_________________________________________________________________\n",
            "Epoch 1/20\n",
            "1512/1512 [==============================] - 653s 432ms/step - loss: 0.6878 - accuracy: 0.5349 - precision: 0.5309 - recall: 0.9317 - val_loss: 0.6915 - val_accuracy: 0.5306 - val_precision: 0.5265 - val_recall: 0.9917\n",
            "Epoch 2/20\n",
            "1512/1512 [==============================] - 654s 432ms/step - loss: 0.6482 - accuracy: 0.6162 - precision: 0.6284 - recall: 0.6469 - val_loss: 0.6340 - val_accuracy: 0.6348 - val_precision: 0.7475 - val_recall: 0.4524\n",
            "Epoch 3/20\n",
            "1512/1512 [==============================] - 648s 428ms/step - loss: 0.6355 - accuracy: 0.6362 - precision: 0.6556 - recall: 0.6376 - val_loss: 0.6766 - val_accuracy: 0.6175 - val_precision: 0.6005 - val_recall: 0.7962\n",
            "Epoch 4/20\n",
            "1512/1512 [==============================] - 651s 431ms/step - loss: 0.6329 - accuracy: 0.6335 - precision: 0.6422 - recall: 0.6720 - val_loss: 0.6146 - val_accuracy: 0.6638 - val_precision: 0.7108 - val_recall: 0.5988\n",
            "Epoch 5/20\n",
            "1512/1512 [==============================] - 655s 433ms/step - loss: 0.6119 - accuracy: 0.6663 - precision: 0.6866 - recall: 0.6631 - val_loss: 0.6110 - val_accuracy: 0.6681 - val_precision: 0.7090 - val_recall: 0.6167\n",
            "Epoch 6/20\n",
            "1512/1512 [==============================] - 663s 438ms/step - loss: 0.6070 - accuracy: 0.6708 - precision: 0.6931 - recall: 0.6622 - val_loss: 0.6021 - val_accuracy: 0.6727 - val_precision: 0.7211 - val_recall: 0.6071\n",
            "Epoch 7/20\n",
            "1512/1512 [==============================] - 658s 435ms/step - loss: 0.6022 - accuracy: 0.6760 - precision: 0.7045 - recall: 0.6526 - val_loss: 0.6086 - val_accuracy: 0.6733 - val_precision: 0.7401 - val_recall: 0.5757\n",
            "Epoch 8/20\n",
            "1512/1512 [==============================] - 661s 437ms/step - loss: 0.6013 - accuracy: 0.6760 - precision: 0.7163 - recall: 0.6274 - val_loss: 0.6240 - val_accuracy: 0.6508 - val_precision: 0.6243 - val_recall: 0.8295\n",
            "Epoch 9/20\n",
            "1512/1512 [==============================] - 676s 447ms/step - loss: 0.5908 - accuracy: 0.6868 - precision: 0.7215 - recall: 0.6509 - val_loss: 0.5908 - val_accuracy: 0.6860 - val_precision: 0.7344 - val_recall: 0.6231\n",
            "Epoch 10/20\n",
            "1512/1512 [==============================] - 684s 453ms/step - loss: 0.5855 - accuracy: 0.6897 - precision: 0.7350 - recall: 0.6337 - val_loss: 0.5815 - val_accuracy: 0.6934 - val_precision: 0.7182 - val_recall: 0.6780\n",
            "Epoch 11/20\n",
            "1512/1512 [==============================] - 664s 439ms/step - loss: 0.5702 - accuracy: 0.7024 - precision: 0.7424 - recall: 0.6577 - val_loss: 0.5755 - val_accuracy: 0.6960 - val_precision: 0.7781 - val_recall: 0.5833\n",
            "Epoch 12/20\n",
            "1512/1512 [==============================] - 657s 434ms/step - loss: 0.5633 - accuracy: 0.7083 - precision: 0.7559 - recall: 0.6512 - val_loss: 0.5715 - val_accuracy: 0.7010 - val_precision: 0.7272 - val_recall: 0.6828\n",
            "Epoch 13/20\n",
            "1512/1512 [==============================] - 661s 437ms/step - loss: 0.5538 - accuracy: 0.7156 - precision: 0.7658 - recall: 0.6551 - val_loss: 0.5757 - val_accuracy: 0.7004 - val_precision: 0.7097 - val_recall: 0.7199\n",
            "Epoch 14/20\n",
            "1512/1512 [==============================] - 661s 437ms/step - loss: 0.5458 - accuracy: 0.7218 - precision: 0.7821 - recall: 0.6469 - val_loss: 0.5675 - val_accuracy: 0.7088 - val_precision: 0.7748 - val_recall: 0.6224\n",
            "Epoch 15/20\n",
            "1512/1512 [==============================] - 654s 433ms/step - loss: 0.5355 - accuracy: 0.7290 - precision: 0.7928 - recall: 0.6507 - val_loss: 0.5532 - val_accuracy: 0.7166 - val_precision: 0.7951 - val_recall: 0.6150\n",
            "Epoch 16/20\n",
            "1512/1512 [==============================] - 659s 436ms/step - loss: 0.5270 - accuracy: 0.7362 - precision: 0.8096 - recall: 0.6464 - val_loss: 0.5558 - val_accuracy: 0.7127 - val_precision: 0.7292 - val_recall: 0.7143\n",
            "Epoch 17/20\n",
            "1512/1512 [==============================] - 660s 437ms/step - loss: 0.5193 - accuracy: 0.7428 - precision: 0.8189 - recall: 0.6511 - val_loss: 0.5485 - val_accuracy: 0.7203 - val_precision: 0.7724 - val_recall: 0.6572\n",
            "Epoch 18/20\n",
            "1512/1512 [==============================] - 661s 437ms/step - loss: 0.5121 - accuracy: 0.7482 - precision: 0.8319 - recall: 0.6485 - val_loss: 0.5432 - val_accuracy: 0.7271 - val_precision: 0.8131 - val_recall: 0.6190\n",
            "Epoch 19/20\n",
            "1512/1512 [==============================] - 663s 439ms/step - loss: 0.5037 - accuracy: 0.7547 - precision: 0.8417 - recall: 0.6524 - val_loss: 0.5460 - val_accuracy: 0.7292 - val_precision: 0.7784 - val_recall: 0.6719\n",
            "Epoch 20/20\n",
            "1512/1512 [==============================] - 658s 435ms/step - loss: 0.4967 - accuracy: 0.7617 - precision: 0.8535 - recall: 0.6557 - val_loss: 0.5363 - val_accuracy: 0.7327 - val_precision: 0.8250 - val_recall: 0.6185\n"
          ],
          "name": "stdout"
        },
        {
          "output_type": "execute_result",
          "data": {
            "text/plain": [
              "<tensorflow.python.keras.callbacks.History at 0x7f08385f2e10>"
            ]
          },
          "metadata": {
            "tags": []
          },
          "execution_count": 39
        }
      ]
    },
    {
      "cell_type": "code",
      "metadata": {
        "id": "bEyVsyUIY6Xo",
        "outputId": "c27f7b48-86c4-4372-ced1-bdf62d777cb3",
        "colab": {
          "base_uri": "https://localhost:8080/",
          "height": 401
        }
      },
      "source": [
        "model.fit(preprocessed_data, np.array(labels), batch_size=200 ,validation_split=0.3,epochs = 30,initial_epoch=20)"
      ],
      "execution_count": null,
      "outputs": [
        {
          "output_type": "stream",
          "text": [
            "Epoch 21/30\n",
            "1512/1512 [==============================] - 664s 439ms/step - loss: 0.4900 - accuracy: 0.7660 - precision: 0.8623 - recall: 0.6562 - val_loss: 0.5322 - val_accuracy: 0.7381 - val_precision: 0.7921 - val_recall: 0.6749\n",
            "Epoch 22/30\n",
            "1512/1512 [==============================] - 665s 440ms/step - loss: 0.4849 - accuracy: 0.7702 - precision: 0.8693 - recall: 0.6587 - val_loss: 0.5311 - val_accuracy: 0.7393 - val_precision: 0.8375 - val_recall: 0.6204\n",
            "Epoch 23/30\n",
            "1512/1512 [==============================] - 673s 445ms/step - loss: 0.4831 - accuracy: 0.7717 - precision: 0.8747 - recall: 0.6564 - val_loss: 0.5422 - val_accuracy: 0.7356 - val_precision: 0.7779 - val_recall: 0.6900\n",
            "Epoch 24/30\n",
            "1512/1512 [==============================] - 675s 446ms/step - loss: 0.4821 - accuracy: 0.7735 - precision: 0.8792 - recall: 0.6560 - val_loss: 0.5241 - val_accuracy: 0.7477 - val_precision: 0.8562 - val_recall: 0.6202\n",
            "Epoch 25/30\n",
            "1512/1512 [==============================] - 679s 449ms/step - loss: 0.4712 - accuracy: 0.7817 - precision: 0.8876 - recall: 0.6659 - val_loss: 0.5569 - val_accuracy: 0.7381 - val_precision: 0.7780 - val_recall: 0.6966\n",
            "Epoch 26/30\n",
            "1512/1512 [==============================] - 685s 453ms/step - loss: 0.4670 - accuracy: 0.7841 - precision: 0.8915 - recall: 0.6674 - val_loss: 0.5577 - val_accuracy: 0.7121 - val_precision: 0.9156 - val_recall: 0.4934\n",
            "Epoch 27/30\n",
            "1512/1512 [==============================] - 685s 453ms/step - loss: 0.4629 - accuracy: 0.7877 - precision: 0.8973 - recall: 0.6697 - val_loss: 0.5110 - val_accuracy: 0.7584 - val_precision: 0.8729 - val_recall: 0.6281\n",
            "Epoch 28/30\n",
            "1512/1512 [==============================] - 693s 458ms/step - loss: 0.4618 - accuracy: 0.7886 - precision: 0.8985 - recall: 0.6706 - val_loss: 0.5298 - val_accuracy: 0.7431 - val_precision: 0.8957 - val_recall: 0.5742\n",
            "Epoch 29/30\n",
            "1512/1512 [==============================] - 681s 450ms/step - loss: 0.4554 - accuracy: 0.7940 - precision: 0.9030 - recall: 0.6779 - val_loss: 0.5459 - val_accuracy: 0.7283 - val_precision: 0.9177 - val_recall: 0.5262\n",
            "Epoch 30/30\n",
            "1512/1512 [==============================] - 675s 446ms/step - loss: 0.4523 - accuracy: 0.7958 - precision: 0.9065 - recall: 0.6786 - val_loss: 0.5080 - val_accuracy: 0.7626 - val_precision: 0.8780 - val_recall: 0.6325\n"
          ],
          "name": "stdout"
        },
        {
          "output_type": "execute_result",
          "data": {
            "text/plain": [
              "<tensorflow.python.keras.callbacks.History at 0x7f0833da4f28>"
            ]
          },
          "metadata": {
            "tags": []
          },
          "execution_count": 45
        }
      ]
    },
    {
      "cell_type": "code",
      "metadata": {
        "id": "6vkLRrFe1f0b",
        "outputId": "8a1cec33-2d3d-4cd2-f9b2-28b83da76843",
        "colab": {
          "base_uri": "https://localhost:8080/",
          "height": 401
        }
      },
      "source": [
        "model.fit(preprocessed_data, np.array(labels), batch_size=200 ,validation_split=0.3,epochs = 40,initial_epoch=30)"
      ],
      "execution_count": null,
      "outputs": [
        {
          "output_type": "stream",
          "text": [
            "Epoch 31/40\n",
            "1512/1512 [==============================] - 684s 452ms/step - loss: 0.4510 - accuracy: 0.7980 - precision: 0.9065 - recall: 0.6832 - val_loss: 0.5032 - val_accuracy: 0.7648 - val_precision: 0.8641 - val_recall: 0.6514\n",
            "Epoch 32/40\n",
            "1512/1512 [==============================] - 669s 442ms/step - loss: 0.4432 - accuracy: 0.8024 - precision: 0.9123 - recall: 0.6873 - val_loss: 0.5150 - val_accuracy: 0.7554 - val_precision: 0.9105 - val_recall: 0.5888\n",
            "Epoch 33/40\n",
            "1512/1512 [==============================] - 668s 442ms/step - loss: 0.4379 - accuracy: 0.8060 - precision: 0.9165 - recall: 0.6910 - val_loss: 0.5017 - val_accuracy: 0.7646 - val_precision: 0.8764 - val_recall: 0.6387\n",
            "Epoch 34/40\n",
            "1512/1512 [==============================] - 673s 445ms/step - loss: 0.4358 - accuracy: 0.8079 - precision: 0.9165 - recall: 0.6950 - val_loss: 0.5171 - val_accuracy: 0.7548 - val_precision: 0.8663 - val_recall: 0.6263\n",
            "Epoch 35/40\n",
            "1512/1512 [==============================] - 670s 443ms/step - loss: 0.4660 - accuracy: 0.7876 - precision: 0.8847 - recall: 0.6817 - val_loss: 0.5497 - val_accuracy: 0.7271 - val_precision: 0.7950 - val_recall: 0.6421\n",
            "Epoch 36/40\n",
            "1512/1512 [==============================] - 681s 450ms/step - loss: 0.5424 - accuracy: 0.7171 - precision: 0.8584 - recall: 0.5482 - val_loss: 0.5552 - val_accuracy: 0.7178 - val_precision: 0.8507 - val_recall: 0.5564\n",
            "Epoch 37/40\n",
            "1512/1512 [==============================] - 673s 445ms/step - loss: 0.5093 - accuracy: 0.7553 - precision: 0.8780 - recall: 0.6167 - val_loss: 0.5252 - val_accuracy: 0.7445 - val_precision: 0.8525 - val_recall: 0.6166\n",
            "Epoch 38/40\n",
            "1512/1512 [==============================] - 666s 441ms/step - loss: 0.4821 - accuracy: 0.7750 - precision: 0.8847 - recall: 0.6540 - val_loss: 0.5144 - val_accuracy: 0.7556 - val_precision: 0.8976 - val_recall: 0.5996\n",
            "Epoch 39/40\n",
            "1512/1512 [==============================] - 667s 441ms/step - loss: 0.4661 - accuracy: 0.7871 - precision: 0.9022 - recall: 0.6638 - val_loss: 0.5186 - val_accuracy: 0.7516 - val_precision: 0.8932 - val_recall: 0.5948\n",
            "Epoch 40/40\n",
            "1512/1512 [==============================] - 672s 444ms/step - loss: 0.4417 - accuracy: 0.8039 - precision: 0.9125 - recall: 0.6903 - val_loss: 0.5024 - val_accuracy: 0.7659 - val_precision: 0.8956 - val_recall: 0.6237\n"
          ],
          "name": "stdout"
        },
        {
          "output_type": "execute_result",
          "data": {
            "text/plain": [
              "<tensorflow.python.keras.callbacks.History at 0x7f0833d7b710>"
            ]
          },
          "metadata": {
            "tags": []
          },
          "execution_count": 49
        }
      ]
    },
    {
      "cell_type": "code",
      "metadata": {
        "id": "OX1klbzMN0FU",
        "outputId": "3281728f-f1ec-4bda-85bc-bb65db9fa53f",
        "colab": {
          "base_uri": "https://localhost:8080/",
          "height": 608
        }
      },
      "source": [
        "model.fit(preprocessed_data, np.array(labels), batch_size=200 ,validation_split=0.3,epochs = 50,initial_epoch=40)"
      ],
      "execution_count": null,
      "outputs": [
        {
          "output_type": "stream",
          "text": [
            "Epoch 41/50\n",
            "1512/1512 [==============================] - 678s 448ms/step - loss: 0.4428 - accuracy: 0.8031 - precision: 0.9134 - recall: 0.6877 - val_loss: 0.5183 - val_accuracy: 0.7529 - val_precision: 0.9163 - val_recall: 0.5790\n",
            "Epoch 42/50\n",
            "1512/1512 [==============================] - 675s 446ms/step - loss: 0.4342 - accuracy: 0.8096 - precision: 0.9219 - recall: 0.6939 - val_loss: 0.4978 - val_accuracy: 0.7720 - val_precision: 0.8778 - val_recall: 0.6536\n",
            "Epoch 43/50\n",
            "1512/1512 [==============================] - 675s 447ms/step - loss: 0.4342 - accuracy: 0.8092 - precision: 0.9295 - recall: 0.6862 - val_loss: 0.5051 - val_accuracy: 0.7656 - val_precision: 0.8920 - val_recall: 0.6263\n",
            "Epoch 44/50\n",
            "1512/1512 [==============================] - 669s 442ms/step - loss: 0.4333 - accuracy: 0.8102 - precision: 0.9292 - recall: 0.6888 - val_loss: 0.5291 - val_accuracy: 0.7452 - val_precision: 0.9218 - val_recall: 0.5587\n",
            "Epoch 45/50\n",
            "1512/1512 [==============================] - 673s 445ms/step - loss: 0.4359 - accuracy: 0.8085 - precision: 0.9304 - recall: 0.6842 - val_loss: 0.4990 - val_accuracy: 0.7705 - val_precision: 0.8819 - val_recall: 0.6464\n",
            "Epoch 46/50\n",
            "1512/1512 [==============================] - 683s 452ms/step - loss: 0.4390 - accuracy: 0.8055 - precision: 0.9344 - recall: 0.6746 - val_loss: 0.5299 - val_accuracy: 0.7416 - val_precision: 0.9233 - val_recall: 0.5502\n",
            "Epoch 47/50\n",
            "1512/1512 [==============================] - 678s 448ms/step - loss: 0.4643 - accuracy: 0.7841 - precision: 0.9490 - recall: 0.6195 - val_loss: 0.5095 - val_accuracy: 0.7586 - val_precision: 0.8993 - val_recall: 0.6047\n",
            "Epoch 48/50\n",
            " 182/1512 [==>...........................] - ETA: 8:32 - loss: 0.4603 - accuracy: 0.7856 - precision: 0.9445 - recall: 0.6284"
          ],
          "name": "stdout"
        },
        {
          "output_type": "error",
          "ename": "KeyboardInterrupt",
          "evalue": "ignored",
          "traceback": [
            "\u001b[0;31m---------------------------------------------------------------------------\u001b[0m",
            "\u001b[0;31mKeyboardInterrupt\u001b[0m                         Traceback (most recent call last)",
            "\u001b[0;32m<ipython-input-50-18c17004df07>\u001b[0m in \u001b[0;36m<module>\u001b[0;34m()\u001b[0m\n\u001b[0;32m----> 1\u001b[0;31m \u001b[0mmodel\u001b[0m\u001b[0;34m.\u001b[0m\u001b[0mfit\u001b[0m\u001b[0;34m(\u001b[0m\u001b[0mpreprocessed_data\u001b[0m\u001b[0;34m,\u001b[0m \u001b[0mnp\u001b[0m\u001b[0;34m.\u001b[0m\u001b[0marray\u001b[0m\u001b[0;34m(\u001b[0m\u001b[0mlabels\u001b[0m\u001b[0;34m)\u001b[0m\u001b[0;34m,\u001b[0m \u001b[0mbatch_size\u001b[0m\u001b[0;34m=\u001b[0m\u001b[0;36m200\u001b[0m \u001b[0;34m,\u001b[0m\u001b[0mvalidation_split\u001b[0m\u001b[0;34m=\u001b[0m\u001b[0;36m0.3\u001b[0m\u001b[0;34m,\u001b[0m\u001b[0mepochs\u001b[0m \u001b[0;34m=\u001b[0m \u001b[0;36m50\u001b[0m\u001b[0;34m,\u001b[0m\u001b[0minitial_epoch\u001b[0m\u001b[0;34m=\u001b[0m\u001b[0;36m40\u001b[0m\u001b[0;34m)\u001b[0m\u001b[0;34m\u001b[0m\u001b[0;34m\u001b[0m\u001b[0m\n\u001b[0m",
            "\u001b[0;32m/usr/local/lib/python3.6/dist-packages/tensorflow/python/keras/engine/training.py\u001b[0m in \u001b[0;36m_method_wrapper\u001b[0;34m(self, *args, **kwargs)\u001b[0m\n\u001b[1;32m    106\u001b[0m   \u001b[0;32mdef\u001b[0m \u001b[0m_method_wrapper\u001b[0m\u001b[0;34m(\u001b[0m\u001b[0mself\u001b[0m\u001b[0;34m,\u001b[0m \u001b[0;34m*\u001b[0m\u001b[0margs\u001b[0m\u001b[0;34m,\u001b[0m \u001b[0;34m**\u001b[0m\u001b[0mkwargs\u001b[0m\u001b[0;34m)\u001b[0m\u001b[0;34m:\u001b[0m\u001b[0;34m\u001b[0m\u001b[0;34m\u001b[0m\u001b[0m\n\u001b[1;32m    107\u001b[0m     \u001b[0;32mif\u001b[0m \u001b[0;32mnot\u001b[0m \u001b[0mself\u001b[0m\u001b[0;34m.\u001b[0m\u001b[0m_in_multi_worker_mode\u001b[0m\u001b[0;34m(\u001b[0m\u001b[0;34m)\u001b[0m\u001b[0;34m:\u001b[0m  \u001b[0;31m# pylint: disable=protected-access\u001b[0m\u001b[0;34m\u001b[0m\u001b[0;34m\u001b[0m\u001b[0m\n\u001b[0;32m--> 108\u001b[0;31m       \u001b[0;32mreturn\u001b[0m \u001b[0mmethod\u001b[0m\u001b[0;34m(\u001b[0m\u001b[0mself\u001b[0m\u001b[0;34m,\u001b[0m \u001b[0;34m*\u001b[0m\u001b[0margs\u001b[0m\u001b[0;34m,\u001b[0m \u001b[0;34m**\u001b[0m\u001b[0mkwargs\u001b[0m\u001b[0;34m)\u001b[0m\u001b[0;34m\u001b[0m\u001b[0;34m\u001b[0m\u001b[0m\n\u001b[0m\u001b[1;32m    109\u001b[0m \u001b[0;34m\u001b[0m\u001b[0m\n\u001b[1;32m    110\u001b[0m     \u001b[0;31m# Running inside `run_distribute_coordinator` already.\u001b[0m\u001b[0;34m\u001b[0m\u001b[0;34m\u001b[0m\u001b[0;34m\u001b[0m\u001b[0m\n",
            "\u001b[0;32m/usr/local/lib/python3.6/dist-packages/tensorflow/python/keras/engine/training.py\u001b[0m in \u001b[0;36mfit\u001b[0;34m(self, x, y, batch_size, epochs, verbose, callbacks, validation_split, validation_data, shuffle, class_weight, sample_weight, initial_epoch, steps_per_epoch, validation_steps, validation_batch_size, validation_freq, max_queue_size, workers, use_multiprocessing)\u001b[0m\n\u001b[1;32m   1096\u001b[0m                 batch_size=batch_size):\n\u001b[1;32m   1097\u001b[0m               \u001b[0mcallbacks\u001b[0m\u001b[0;34m.\u001b[0m\u001b[0mon_train_batch_begin\u001b[0m\u001b[0;34m(\u001b[0m\u001b[0mstep\u001b[0m\u001b[0;34m)\u001b[0m\u001b[0;34m\u001b[0m\u001b[0;34m\u001b[0m\u001b[0m\n\u001b[0;32m-> 1098\u001b[0;31m               \u001b[0mtmp_logs\u001b[0m \u001b[0;34m=\u001b[0m \u001b[0mtrain_function\u001b[0m\u001b[0;34m(\u001b[0m\u001b[0miterator\u001b[0m\u001b[0;34m)\u001b[0m\u001b[0;34m\u001b[0m\u001b[0;34m\u001b[0m\u001b[0m\n\u001b[0m\u001b[1;32m   1099\u001b[0m               \u001b[0;32mif\u001b[0m \u001b[0mdata_handler\u001b[0m\u001b[0;34m.\u001b[0m\u001b[0mshould_sync\u001b[0m\u001b[0;34m:\u001b[0m\u001b[0;34m\u001b[0m\u001b[0;34m\u001b[0m\u001b[0m\n\u001b[1;32m   1100\u001b[0m                 \u001b[0mcontext\u001b[0m\u001b[0;34m.\u001b[0m\u001b[0masync_wait\u001b[0m\u001b[0;34m(\u001b[0m\u001b[0;34m)\u001b[0m\u001b[0;34m\u001b[0m\u001b[0;34m\u001b[0m\u001b[0m\n",
            "\u001b[0;32m/usr/local/lib/python3.6/dist-packages/tensorflow/python/eager/def_function.py\u001b[0m in \u001b[0;36m__call__\u001b[0;34m(self, *args, **kwds)\u001b[0m\n\u001b[1;32m    778\u001b[0m       \u001b[0;32melse\u001b[0m\u001b[0;34m:\u001b[0m\u001b[0;34m\u001b[0m\u001b[0;34m\u001b[0m\u001b[0m\n\u001b[1;32m    779\u001b[0m         \u001b[0mcompiler\u001b[0m \u001b[0;34m=\u001b[0m \u001b[0;34m\"nonXla\"\u001b[0m\u001b[0;34m\u001b[0m\u001b[0;34m\u001b[0m\u001b[0m\n\u001b[0;32m--> 780\u001b[0;31m         \u001b[0mresult\u001b[0m \u001b[0;34m=\u001b[0m \u001b[0mself\u001b[0m\u001b[0;34m.\u001b[0m\u001b[0m_call\u001b[0m\u001b[0;34m(\u001b[0m\u001b[0;34m*\u001b[0m\u001b[0margs\u001b[0m\u001b[0;34m,\u001b[0m \u001b[0;34m**\u001b[0m\u001b[0mkwds\u001b[0m\u001b[0;34m)\u001b[0m\u001b[0;34m\u001b[0m\u001b[0;34m\u001b[0m\u001b[0m\n\u001b[0m\u001b[1;32m    781\u001b[0m \u001b[0;34m\u001b[0m\u001b[0m\n\u001b[1;32m    782\u001b[0m       \u001b[0mnew_tracing_count\u001b[0m \u001b[0;34m=\u001b[0m \u001b[0mself\u001b[0m\u001b[0;34m.\u001b[0m\u001b[0m_get_tracing_count\u001b[0m\u001b[0;34m(\u001b[0m\u001b[0;34m)\u001b[0m\u001b[0;34m\u001b[0m\u001b[0;34m\u001b[0m\u001b[0m\n",
            "\u001b[0;32m/usr/local/lib/python3.6/dist-packages/tensorflow/python/eager/def_function.py\u001b[0m in \u001b[0;36m_call\u001b[0;34m(self, *args, **kwds)\u001b[0m\n\u001b[1;32m    805\u001b[0m       \u001b[0;31m# In this case we have created variables on the first call, so we run the\u001b[0m\u001b[0;34m\u001b[0m\u001b[0;34m\u001b[0m\u001b[0;34m\u001b[0m\u001b[0m\n\u001b[1;32m    806\u001b[0m       \u001b[0;31m# defunned version which is guaranteed to never create variables.\u001b[0m\u001b[0;34m\u001b[0m\u001b[0;34m\u001b[0m\u001b[0;34m\u001b[0m\u001b[0m\n\u001b[0;32m--> 807\u001b[0;31m       \u001b[0;32mreturn\u001b[0m \u001b[0mself\u001b[0m\u001b[0;34m.\u001b[0m\u001b[0m_stateless_fn\u001b[0m\u001b[0;34m(\u001b[0m\u001b[0;34m*\u001b[0m\u001b[0margs\u001b[0m\u001b[0;34m,\u001b[0m \u001b[0;34m**\u001b[0m\u001b[0mkwds\u001b[0m\u001b[0;34m)\u001b[0m  \u001b[0;31m# pylint: disable=not-callable\u001b[0m\u001b[0;34m\u001b[0m\u001b[0;34m\u001b[0m\u001b[0m\n\u001b[0m\u001b[1;32m    808\u001b[0m     \u001b[0;32melif\u001b[0m \u001b[0mself\u001b[0m\u001b[0;34m.\u001b[0m\u001b[0m_stateful_fn\u001b[0m \u001b[0;32mis\u001b[0m \u001b[0;32mnot\u001b[0m \u001b[0;32mNone\u001b[0m\u001b[0;34m:\u001b[0m\u001b[0;34m\u001b[0m\u001b[0;34m\u001b[0m\u001b[0m\n\u001b[1;32m    809\u001b[0m       \u001b[0;31m# Release the lock early so that multiple threads can perform the call\u001b[0m\u001b[0;34m\u001b[0m\u001b[0;34m\u001b[0m\u001b[0;34m\u001b[0m\u001b[0m\n",
            "\u001b[0;32m/usr/local/lib/python3.6/dist-packages/tensorflow/python/eager/function.py\u001b[0m in \u001b[0;36m__call__\u001b[0;34m(self, *args, **kwargs)\u001b[0m\n\u001b[1;32m   2827\u001b[0m     \u001b[0;32mwith\u001b[0m \u001b[0mself\u001b[0m\u001b[0;34m.\u001b[0m\u001b[0m_lock\u001b[0m\u001b[0;34m:\u001b[0m\u001b[0;34m\u001b[0m\u001b[0;34m\u001b[0m\u001b[0m\n\u001b[1;32m   2828\u001b[0m       \u001b[0mgraph_function\u001b[0m\u001b[0;34m,\u001b[0m \u001b[0margs\u001b[0m\u001b[0;34m,\u001b[0m \u001b[0mkwargs\u001b[0m \u001b[0;34m=\u001b[0m \u001b[0mself\u001b[0m\u001b[0;34m.\u001b[0m\u001b[0m_maybe_define_function\u001b[0m\u001b[0;34m(\u001b[0m\u001b[0margs\u001b[0m\u001b[0;34m,\u001b[0m \u001b[0mkwargs\u001b[0m\u001b[0;34m)\u001b[0m\u001b[0;34m\u001b[0m\u001b[0;34m\u001b[0m\u001b[0m\n\u001b[0;32m-> 2829\u001b[0;31m     \u001b[0;32mreturn\u001b[0m \u001b[0mgraph_function\u001b[0m\u001b[0;34m.\u001b[0m\u001b[0m_filtered_call\u001b[0m\u001b[0;34m(\u001b[0m\u001b[0margs\u001b[0m\u001b[0;34m,\u001b[0m \u001b[0mkwargs\u001b[0m\u001b[0;34m)\u001b[0m  \u001b[0;31m# pylint: disable=protected-access\u001b[0m\u001b[0;34m\u001b[0m\u001b[0;34m\u001b[0m\u001b[0m\n\u001b[0m\u001b[1;32m   2830\u001b[0m \u001b[0;34m\u001b[0m\u001b[0m\n\u001b[1;32m   2831\u001b[0m   \u001b[0;34m@\u001b[0m\u001b[0mproperty\u001b[0m\u001b[0;34m\u001b[0m\u001b[0;34m\u001b[0m\u001b[0m\n",
            "\u001b[0;32m/usr/local/lib/python3.6/dist-packages/tensorflow/python/eager/function.py\u001b[0m in \u001b[0;36m_filtered_call\u001b[0;34m(self, args, kwargs, cancellation_manager)\u001b[0m\n\u001b[1;32m   1846\u001b[0m                            resource_variable_ops.BaseResourceVariable))],\n\u001b[1;32m   1847\u001b[0m         \u001b[0mcaptured_inputs\u001b[0m\u001b[0;34m=\u001b[0m\u001b[0mself\u001b[0m\u001b[0;34m.\u001b[0m\u001b[0mcaptured_inputs\u001b[0m\u001b[0;34m,\u001b[0m\u001b[0;34m\u001b[0m\u001b[0;34m\u001b[0m\u001b[0m\n\u001b[0;32m-> 1848\u001b[0;31m         cancellation_manager=cancellation_manager)\n\u001b[0m\u001b[1;32m   1849\u001b[0m \u001b[0;34m\u001b[0m\u001b[0m\n\u001b[1;32m   1850\u001b[0m   \u001b[0;32mdef\u001b[0m \u001b[0m_call_flat\u001b[0m\u001b[0;34m(\u001b[0m\u001b[0mself\u001b[0m\u001b[0;34m,\u001b[0m \u001b[0margs\u001b[0m\u001b[0;34m,\u001b[0m \u001b[0mcaptured_inputs\u001b[0m\u001b[0;34m,\u001b[0m \u001b[0mcancellation_manager\u001b[0m\u001b[0;34m=\u001b[0m\u001b[0;32mNone\u001b[0m\u001b[0;34m)\u001b[0m\u001b[0;34m:\u001b[0m\u001b[0;34m\u001b[0m\u001b[0;34m\u001b[0m\u001b[0m\n",
            "\u001b[0;32m/usr/local/lib/python3.6/dist-packages/tensorflow/python/eager/function.py\u001b[0m in \u001b[0;36m_call_flat\u001b[0;34m(self, args, captured_inputs, cancellation_manager)\u001b[0m\n\u001b[1;32m   1922\u001b[0m       \u001b[0;31m# No tape is watching; skip to running the function.\u001b[0m\u001b[0;34m\u001b[0m\u001b[0;34m\u001b[0m\u001b[0;34m\u001b[0m\u001b[0m\n\u001b[1;32m   1923\u001b[0m       return self._build_call_outputs(self._inference_function.call(\n\u001b[0;32m-> 1924\u001b[0;31m           ctx, args, cancellation_manager=cancellation_manager))\n\u001b[0m\u001b[1;32m   1925\u001b[0m     forward_backward = self._select_forward_and_backward_functions(\n\u001b[1;32m   1926\u001b[0m         \u001b[0margs\u001b[0m\u001b[0;34m,\u001b[0m\u001b[0;34m\u001b[0m\u001b[0;34m\u001b[0m\u001b[0m\n",
            "\u001b[0;32m/usr/local/lib/python3.6/dist-packages/tensorflow/python/eager/function.py\u001b[0m in \u001b[0;36mcall\u001b[0;34m(self, ctx, args, cancellation_manager)\u001b[0m\n\u001b[1;32m    548\u001b[0m               \u001b[0minputs\u001b[0m\u001b[0;34m=\u001b[0m\u001b[0margs\u001b[0m\u001b[0;34m,\u001b[0m\u001b[0;34m\u001b[0m\u001b[0;34m\u001b[0m\u001b[0m\n\u001b[1;32m    549\u001b[0m               \u001b[0mattrs\u001b[0m\u001b[0;34m=\u001b[0m\u001b[0mattrs\u001b[0m\u001b[0;34m,\u001b[0m\u001b[0;34m\u001b[0m\u001b[0;34m\u001b[0m\u001b[0m\n\u001b[0;32m--> 550\u001b[0;31m               ctx=ctx)\n\u001b[0m\u001b[1;32m    551\u001b[0m         \u001b[0;32melse\u001b[0m\u001b[0;34m:\u001b[0m\u001b[0;34m\u001b[0m\u001b[0;34m\u001b[0m\u001b[0m\n\u001b[1;32m    552\u001b[0m           outputs = execute.execute_with_cancellation(\n",
            "\u001b[0;32m/usr/local/lib/python3.6/dist-packages/tensorflow/python/eager/execute.py\u001b[0m in \u001b[0;36mquick_execute\u001b[0;34m(op_name, num_outputs, inputs, attrs, ctx, name)\u001b[0m\n\u001b[1;32m     58\u001b[0m     \u001b[0mctx\u001b[0m\u001b[0;34m.\u001b[0m\u001b[0mensure_initialized\u001b[0m\u001b[0;34m(\u001b[0m\u001b[0;34m)\u001b[0m\u001b[0;34m\u001b[0m\u001b[0;34m\u001b[0m\u001b[0m\n\u001b[1;32m     59\u001b[0m     tensors = pywrap_tfe.TFE_Py_Execute(ctx._handle, device_name, op_name,\n\u001b[0;32m---> 60\u001b[0;31m                                         inputs, attrs, num_outputs)\n\u001b[0m\u001b[1;32m     61\u001b[0m   \u001b[0;32mexcept\u001b[0m \u001b[0mcore\u001b[0m\u001b[0;34m.\u001b[0m\u001b[0m_NotOkStatusException\u001b[0m \u001b[0;32mas\u001b[0m \u001b[0me\u001b[0m\u001b[0;34m:\u001b[0m\u001b[0;34m\u001b[0m\u001b[0;34m\u001b[0m\u001b[0m\n\u001b[1;32m     62\u001b[0m     \u001b[0;32mif\u001b[0m \u001b[0mname\u001b[0m \u001b[0;32mis\u001b[0m \u001b[0;32mnot\u001b[0m \u001b[0;32mNone\u001b[0m\u001b[0;34m:\u001b[0m\u001b[0;34m\u001b[0m\u001b[0;34m\u001b[0m\u001b[0m\n",
            "\u001b[0;31mKeyboardInterrupt\u001b[0m: "
          ]
        }
      ]
    },
    {
      "cell_type": "code",
      "metadata": {
        "id": "DlwQZw0S4T7D",
        "outputId": "0e4fe2b2-e08e-4bc2-c996-e546cc547358",
        "colab": {
          "base_uri": "https://localhost:8080/",
          "height": 34
        }
      },
      "source": [
        "model_json = model.to_json()\n",
        "with open(\"/content/gdrive/My Drive/minor/full_balanced_modelA76_epoch30.json\", \"w\") as json_file:\n",
        "    json_file.write(model_json)\n",
        "model.save_weights(\"/content/gdrive/My Drive/full_balanced_modelA76_epoch30.h5\")\n",
        "print(\"Saved model to disk\")"
      ],
      "execution_count": null,
      "outputs": [
        {
          "output_type": "stream",
          "text": [
            "Saved model to disk\n"
          ],
          "name": "stdout"
        }
      ]
    },
    {
      "cell_type": "code",
      "metadata": {
        "id": "LwpmYmTZLjm3"
      },
      "source": [
        "test_seq = vocabulary_tokenizer.texts_to_sequences(test['review'])\n",
        "test_data = pad_sequences(test_seq,padding='post',maxlen=300)"
      ],
      "execution_count": null,
      "outputs": []
    },
    {
      "cell_type": "code",
      "metadata": {
        "id": "s2d88DJPWqow"
      },
      "source": [
        "np.save(dataset_path+'X_test.npy',test_data)\n",
        "np.save(dataset_path+'X_train.npy',preprocessed_data)\n",
        "np.save(dataset_path+'y_test.npy',np.array(test['label']))\n",
        "np.save(dataset_path+'y_train.npy', np.array(labels))\n"
      ],
      "execution_count": null,
      "outputs": []
    },
    {
      "cell_type": "markdown",
      "metadata": {
        "id": "nOxfwtOSW3ZW"
      },
      "source": [
        ""
      ]
    },
    {
      "cell_type": "code",
      "metadata": {
        "id": "IY1D1c3wQLfO",
        "outputId": "ff45586c-d3dc-44bb-c526-e0d8572735da",
        "colab": {
          "base_uri": "https://localhost:8080/",
          "height": 52
        }
      },
      "source": [
        "model.evaluate(test_data,test['label'])"
      ],
      "execution_count": null,
      "outputs": [
        {
          "output_type": "stream",
          "text": [
            "5785/5785 [==============================] - 193s 33ms/step - loss: 0.5052 - accuracy: 0.7658 - precision: 0.8787 - recall: 0.6408\n"
          ],
          "name": "stdout"
        },
        {
          "output_type": "execute_result",
          "data": {
            "text/plain": [
              "[0.5052070021629333, 0.765848696231842, 0.8787093162536621, 0.6407817006111145]"
            ]
          },
          "metadata": {
            "tags": []
          },
          "execution_count": 46
        }
      ]
    },
    {
      "cell_type": "code",
      "metadata": {
        "id": "zc6ACkbvRKII",
        "outputId": "228b42b2-2487-43a8-caea-d739b3c7d652",
        "colab": {
          "base_uri": "https://localhost:8080/",
          "height": 52
        }
      },
      "source": [
        "from sklearn.metrics import confusion_matrix\n",
        "p=model.predict(test_data)\n",
        "confusion_matrix(test['label'],p.round())"
      ],
      "execution_count": null,
      "outputs": [
        {
          "output_type": "execute_result",
          "data": {
            "text/plain": [
              "array([[79718,  8563],\n",
              "       [34777, 62036]])"
            ]
          },
          "metadata": {
            "tags": []
          },
          "execution_count": 47
        }
      ]
    },
    {
      "cell_type": "markdown",
      "metadata": {
        "id": "pg9pFtzuhts_"
      },
      "source": [
        "After 50 epochs"
      ]
    },
    {
      "cell_type": "code",
      "metadata": {
        "id": "SE59G_RNiD14",
        "outputId": "5fd82ebb-0660-4062-c5a0-63d89c54bb26",
        "colab": {
          "base_uri": "https://localhost:8080/",
          "height": 52
        }
      },
      "source": [
        "model.evaluate(test_data,test['label'])"
      ],
      "execution_count": null,
      "outputs": [
        {
          "output_type": "stream",
          "text": [
            "648/648 [==============================] - 84s 129ms/step - loss: 0.5541 - accuracy: 0.7072 - precision: 0.9343 - recall: 0.4717\n"
          ],
          "name": "stdout"
        },
        {
          "output_type": "execute_result",
          "data": {
            "text/plain": [
              "[0.5540655255317688, 0.7072048783302307, 0.934265673160553, 0.4716618061065674]"
            ]
          },
          "metadata": {
            "tags": []
          },
          "execution_count": 53
        }
      ]
    },
    {
      "cell_type": "code",
      "metadata": {
        "id": "dzpQOB69hzdG",
        "outputId": "f4a67ee3-5607-4a09-c4f1-6487ac2ec365",
        "colab": {
          "base_uri": "https://localhost:8080/",
          "height": 52
        }
      },
      "source": [
        "from sklearn.metrics import confusion_matrix\n",
        "p=model.predict(test_data)\n",
        "confusion_matrix(test['label'],p.round())"
      ],
      "execution_count": null,
      "outputs": [
        {
          "output_type": "execute_result",
          "data": {
            "text/plain": [
              "array([[84801,  3480],\n",
              "       [50419, 46394]])"
            ]
          },
          "metadata": {
            "tags": []
          },
          "execution_count": 54
        }
      ]
    },
    {
      "cell_type": "markdown",
      "metadata": {
        "id": "rGaQq48AalQY"
      },
      "source": [
        "# Model suggested in Papers"
      ]
    },
    {
      "cell_type": "code",
      "metadata": {
        "id": "0fp_Nk_oiVoP",
        "outputId": "9e9ce681-0f02-4cf7-adfc-4593818fe71f",
        "colab": {
          "base_uri": "https://localhost:8080/",
          "height": 850
        }
      },
      "source": [
        "def create_model():\n",
        "    model_conv = Sequential()\n",
        "    model_conv.add(Embedding(vocab_size, embedding_dim, input_length=preprocessed_data.shape[1], weights=[embedding_matrix], trainable=False))\n",
        "    model_conv.add(Conv1D(100, 5, activation='relu'))\n",
        "    model_conv.add(Conv1D(100, 5, activation='relu'))\n",
        "    model_conv.add(Conv1D(40, 5, activation='relu'))\n",
        "    model_conv.add(Flatten())\n",
        "    model_conv.add(Dense(1, activation='sigmoid'))\n",
        "    model_conv.compile(loss='binary_crossentropy', optimizer='adam', metrics=['accuracy',Precision(),Recall()])\n",
        "    return model_conv\n",
        "model = create_model()\n",
        "model.summary()\n",
        "history = model.fit(preprocessed_data, np.array(labels), batch_size=1000 ,validation_split=0.3,epochs = 15)"
      ],
      "execution_count": null,
      "outputs": [
        {
          "output_type": "stream",
          "text": [
            "Model: \"sequential_8\"\n",
            "_________________________________________________________________\n",
            "Layer (type)                 Output Shape              Param #   \n",
            "=================================================================\n",
            "embedding_7 (Embedding)      (None, 300, 100)          3139800   \n",
            "_________________________________________________________________\n",
            "conv1d_19 (Conv1D)           (None, 296, 100)          50100     \n",
            "_________________________________________________________________\n",
            "conv1d_20 (Conv1D)           (None, 292, 100)          50100     \n",
            "_________________________________________________________________\n",
            "conv1d_21 (Conv1D)           (None, 288, 40)           20040     \n",
            "_________________________________________________________________\n",
            "flatten_7 (Flatten)          (None, 11520)             0         \n",
            "_________________________________________________________________\n",
            "dense_15 (Dense)             (None, 1)                 11521     \n",
            "=================================================================\n",
            "Total params: 3,271,561\n",
            "Trainable params: 131,761\n",
            "Non-trainable params: 3,139,800\n",
            "_________________________________________________________________\n",
            "Epoch 1/15\n",
            "303/303 [==============================] - 30s 98ms/step - loss: 0.6196 - accuracy: 0.6553 - precision_23: 0.6757 - recall_23: 0.6534 - val_loss: 0.5985 - val_accuracy: 0.6753 - val_precision_23: 0.6963 - val_recall_23: 0.6728\n",
            "Epoch 2/15\n",
            "303/303 [==============================] - 29s 97ms/step - loss: 0.5760 - accuracy: 0.6939 - precision_23: 0.7135 - recall_23: 0.6913 - val_loss: 0.5726 - val_accuracy: 0.7004 - val_precision_23: 0.7957 - val_recall_23: 0.5748\n",
            "Epoch 3/15\n",
            "303/303 [==============================] - 29s 96ms/step - loss: 0.5057 - accuracy: 0.7475 - precision_23: 0.7728 - recall_23: 0.7313 - val_loss: 0.5015 - val_accuracy: 0.7461 - val_precision_23: 0.7533 - val_recall_23: 0.7651\n",
            "Epoch 4/15\n",
            "303/303 [==============================] - 29s 96ms/step - loss: 0.4313 - accuracy: 0.7988 - precision_23: 0.8296 - recall_23: 0.7735 - val_loss: 0.4627 - val_accuracy: 0.7806 - val_precision_23: 0.8231 - val_recall_23: 0.7396\n",
            "Epoch 5/15\n",
            "303/303 [==============================] - 29s 96ms/step - loss: 0.3682 - accuracy: 0.8373 - precision_23: 0.8699 - recall_23: 0.8094 - val_loss: 0.4249 - val_accuracy: 0.8049 - val_precision_23: 0.8243 - val_recall_23: 0.7969\n",
            "Epoch 6/15\n",
            "303/303 [==============================] - 29s 96ms/step - loss: 0.3124 - accuracy: 0.8689 - precision_23: 0.9020 - recall_23: 0.8402 - val_loss: 0.3971 - val_accuracy: 0.8296 - val_precision_23: 0.8752 - val_recall_23: 0.7864\n",
            "Epoch 7/15\n",
            "303/303 [==============================] - 29s 96ms/step - loss: 0.2701 - accuracy: 0.8905 - precision_23: 0.9227 - recall_23: 0.8627 - val_loss: 0.3814 - val_accuracy: 0.8395 - val_precision_23: 0.8595 - val_recall_23: 0.8286\n",
            "Epoch 8/15\n",
            "303/303 [==============================] - 29s 96ms/step - loss: 0.2278 - accuracy: 0.9119 - precision_23: 0.9420 - recall_23: 0.8858 - val_loss: 0.3627 - val_accuracy: 0.8578 - val_precision_23: 0.8998 - val_recall_23: 0.8194\n",
            "Epoch 9/15\n",
            "303/303 [==============================] - 29s 96ms/step - loss: 0.1959 - accuracy: 0.9266 - precision_23: 0.9536 - recall_23: 0.9034 - val_loss: 0.3748 - val_accuracy: 0.8653 - val_precision_23: 0.9468 - val_recall_23: 0.7868\n",
            "Epoch 10/15\n",
            "303/303 [==============================] - 29s 96ms/step - loss: 0.1687 - accuracy: 0.9381 - precision_23: 0.9627 - recall_23: 0.9170 - val_loss: 0.3563 - val_accuracy: 0.8777 - val_precision_23: 0.9307 - val_recall_23: 0.8279\n",
            "Epoch 11/15\n",
            "303/303 [==============================] - 29s 96ms/step - loss: 0.1486 - accuracy: 0.9464 - precision_23: 0.9686 - recall_23: 0.9273 - val_loss: 0.3575 - val_accuracy: 0.8801 - val_precision_23: 0.9349 - val_recall_23: 0.8285\n",
            "Epoch 12/15\n",
            "303/303 [==============================] - 29s 96ms/step - loss: 0.1281 - accuracy: 0.9549 - precision_23: 0.9743 - recall_23: 0.9384 - val_loss: 0.3455 - val_accuracy: 0.8859 - val_precision_23: 0.9174 - val_recall_23: 0.8592\n",
            "Epoch 13/15\n",
            "303/303 [==============================] - 29s 95ms/step - loss: 0.1083 - accuracy: 0.9625 - precision_23: 0.9793 - recall_23: 0.9482 - val_loss: 0.3538 - val_accuracy: 0.8955 - val_precision_23: 0.9459 - val_recall_23: 0.8488\n",
            "Epoch 14/15\n",
            "303/303 [==============================] - 29s 95ms/step - loss: 0.1112 - accuracy: 0.9605 - precision_23: 0.9757 - recall_23: 0.9481 - val_loss: 0.4304 - val_accuracy: 0.8838 - val_precision_23: 0.9633 - val_recall_23: 0.8087\n",
            "Epoch 15/15\n",
            "303/303 [==============================] - 29s 95ms/step - loss: 0.0910 - accuracy: 0.9688 - precision_23: 0.9823 - recall_23: 0.9576 - val_loss: 0.4218 - val_accuracy: 0.8934 - val_precision_23: 0.9716 - val_recall_23: 0.8202\n"
          ],
          "name": "stdout"
        }
      ]
    },
    {
      "cell_type": "code",
      "metadata": {
        "id": "LCbcnswR5wOD"
      },
      "source": [
        ""
      ],
      "execution_count": null,
      "outputs": []
    },
    {
      "cell_type": "code",
      "metadata": {
        "id": "3SRlbTKqgzMr"
      },
      "source": [
        "\n",
        "test_seq = vocabulary_tokenizer.texts_to_sequences(test['review'])\n",
        "test_data = pad_sequences(test_seq,padding='post',maxlen=300)\n"
      ],
      "execution_count": null,
      "outputs": []
    },
    {
      "cell_type": "code",
      "metadata": {
        "id": "miXIywFY45OA",
        "outputId": "cddcdfbd-7eb3-437c-d42d-a5cf47f9827d",
        "colab": {
          "base_uri": "https://localhost:8080/",
          "height": 98
        }
      },
      "source": [
        "model.evaluate(test_data,test['label'])"
      ],
      "execution_count": null,
      "outputs": [
        {
          "output_type": "stream",
          "text": [
            "5785/5785 [==============================] - 25s 4ms/step - loss: 0.4114 - accuracy: 0.8955 - precision_23: 0.9708 - recall_23: 0.8243\n"
          ],
          "name": "stdout"
        },
        {
          "output_type": "execute_result",
          "data": {
            "text/plain": [
              "[0.41141387820243835,\n",
              " 0.8954639434814453,\n",
              " 0.9707573056221008,\n",
              " 0.8243066668510437]"
            ]
          },
          "metadata": {
            "tags": []
          },
          "execution_count": 73
        }
      ]
    },
    {
      "cell_type": "code",
      "metadata": {
        "id": "_iBFkVMrnAGI",
        "outputId": "5bf53448-b42e-4d76-e56a-a03a68583106",
        "colab": {
          "base_uri": "https://localhost:8080/",
          "height": 50
        }
      },
      "source": [
        "from sklearn.metrics import confusion_matrix\n",
        "p=model.predict(test_data)\n",
        "confusion_matrix(test['label'],p.round())"
      ],
      "execution_count": null,
      "outputs": [
        {
          "output_type": "execute_result",
          "data": {
            "text/plain": [
              "array([[86206,  2396],\n",
              "       [16953, 79539]])"
            ]
          },
          "metadata": {
            "tags": []
          },
          "execution_count": 74
        }
      ]
    },
    {
      "cell_type": "code",
      "metadata": {
        "id": "cK1FSjr1UyQj"
      },
      "source": [
        "X_test = np.load(dataset_path+'X_test.npy')\n",
        "y_test = np.load(dataset_path+'y_test.npy')"
      ],
      "execution_count": null,
      "outputs": []
    },
    {
      "cell_type": "code",
      "metadata": {
        "id": "Bc2zOQ7eWhSr",
        "outputId": "16c9b842-9145-4613-d9ea-fa183bcde119",
        "colab": {
          "base_uri": "https://localhost:8080/",
          "height": 98
        }
      },
      "source": [
        "model.evaluate(X_test,y_test)"
      ],
      "execution_count": null,
      "outputs": [
        {
          "output_type": "stream",
          "text": [
            "5785/5785 [==============================] - 25s 4ms/step - loss: 0.5275 - accuracy: 0.9162 - precision_23: 0.9768 - recall_23: 0.8597\n"
          ],
          "name": "stdout"
        },
        {
          "output_type": "execute_result",
          "data": {
            "text/plain": [
              "[0.5274617075920105,\n",
              " 0.9162371754646301,\n",
              " 0.9768487811088562,\n",
              " 0.8596982359886169]"
            ]
          },
          "metadata": {
            "tags": []
          },
          "execution_count": 95
        }
      ]
    },
    {
      "cell_type": "code",
      "metadata": {
        "id": "MfCs6VlRUYyW"
      },
      "source": [
        "np.save(dataset_path+'X_test.npy',test_data)\n",
        "np.save(dataset_path+'y_test.npy',test['label'])\n",
        "np.save(dataset_path+'X_train.npy',preprocessed_data)\n",
        "np.save(dataset_path+'y_train.npy', np.array(labels))\n"
      ],
      "execution_count": null,
      "outputs": []
    },
    {
      "cell_type": "code",
      "metadata": {
        "id": "49xYTpm4scHq",
        "outputId": "62b0629f-28cf-407e-a730-7fb34691fe9c",
        "colab": {
          "base_uri": "https://localhost:8080/",
          "height": 33
        }
      },
      "source": [
        "model_json = model.to_json()\n",
        "with open(model_path+\"modelA91.json\", \"w\") as json_file:\n",
        "    json_file.write(model_json)\n",
        "model.save_weights(model_path+\"modelA91.h5\")\n",
        "print(\"Saved model to disk\")"
      ],
      "execution_count": null,
      "outputs": [
        {
          "output_type": "stream",
          "text": [
            "Saved model to disk\n"
          ],
          "name": "stdout"
        }
      ]
    },
    {
      "cell_type": "code",
      "metadata": {
        "id": "Y64_VIaSWt1G",
        "outputId": "2cbdeb72-5ac9-46fe-b474-4a2e0fe38541",
        "colab": {
          "base_uri": "https://localhost:8080/",
          "height": 358
        }
      },
      "source": [
        "from keras.models import model_from_json\n",
        "json_file = open(model_path+'modelA91.json', 'r')\n",
        "loaded_model_json = json_file.read()\n",
        "json_file.close()\n",
        "loaded_model = model_from_json(loaded_model_json)\n",
        "# load weights into new model\n",
        "loaded_model.load_weights(model_path+\"modelA91.h5\")\n",
        "\n",
        "loaded_model.compile(loss='binary_crossentropy', optimizer='adam', metrics=['accuracy',Precision(),Recall()])\n",
        "loaded_model.summary()\n",
        "print(\"Loaded model from disk\")"
      ],
      "execution_count": null,
      "outputs": [
        {
          "output_type": "stream",
          "text": [
            "Model: \"sequential_8\"\n",
            "_________________________________________________________________\n",
            "Layer (type)                 Output Shape              Param #   \n",
            "=================================================================\n",
            "embedding_7 (Embedding)      (None, 300, 100)          3139800   \n",
            "_________________________________________________________________\n",
            "conv1d_19 (Conv1D)           (None, 296, 100)          50100     \n",
            "_________________________________________________________________\n",
            "conv1d_20 (Conv1D)           (None, 292, 100)          50100     \n",
            "_________________________________________________________________\n",
            "conv1d_21 (Conv1D)           (None, 288, 40)           20040     \n",
            "_________________________________________________________________\n",
            "flatten_7 (Flatten)          (None, 11520)             0         \n",
            "_________________________________________________________________\n",
            "dense_15 (Dense)             (None, 1)                 11521     \n",
            "=================================================================\n",
            "Total params: 3,271,561\n",
            "Trainable params: 131,761\n",
            "Non-trainable params: 3,139,800\n",
            "_________________________________________________________________\n",
            "Loaded model from disk\n"
          ],
          "name": "stdout"
        }
      ]
    },
    {
      "cell_type": "code",
      "metadata": {
        "id": "JYe6qUpC1mi3",
        "outputId": "94196e01-a8f4-4639-d959-9e00130c68f8",
        "colab": {
          "base_uri": "https://localhost:8080/",
          "height": 98
        }
      },
      "source": [
        "loaded_model.evaluate(X_test,y_test)"
      ],
      "execution_count": null,
      "outputs": [
        {
          "output_type": "stream",
          "text": [
            "5785/5785 [==============================] - 23s 4ms/step - loss: 0.5275 - accuracy: 0.9162 - precision_1: 0.9768 - recall_1: 0.8597\n"
          ],
          "name": "stdout"
        },
        {
          "output_type": "execute_result",
          "data": {
            "text/plain": [
              "[0.5274617075920105,\n",
              " 0.9162371754646301,\n",
              " 0.9768487811088562,\n",
              " 0.8596982359886169]"
            ]
          },
          "metadata": {
            "tags": []
          },
          "execution_count": 25
        }
      ]
    },
    {
      "cell_type": "code",
      "metadata": {
        "id": "occHgqu42M8y"
      },
      "source": [
        "with open(model_path+'tokenizer.pickle', 'rb') as handle:\n",
        "    tokenizer = pickle.load(handle)"
      ],
      "execution_count": null,
      "outputs": []
    },
    {
      "cell_type": "code",
      "metadata": {
        "id": "x3KTWWB32RZe",
        "outputId": "e9794e8c-2ab4-4d9f-8e8e-da3393a7a210",
        "colab": {
          "base_uri": "https://localhost:8080/",
          "height": 33
        }
      },
      "source": [
        "s = tokenizer.texts_to_sequences([\"Amazing sounds clarity Pros : good bass on fu volume , you'll get a feeling that your ear are vibrating, Vocals and mids are superb.Cons, no volume controls\"])\n",
        "d = pad_sequences(s,padding=\"post\",maxlen=300)\n",
        "loaded_model.predict(d)\n",
        "\n",
        "# for i,j in test.iterrows():\n",
        "#   if(j['label']==0):\n",
        "#     print(j['review'])\n",
        "#     break"
      ],
      "execution_count": null,
      "outputs": [
        {
          "output_type": "execute_result",
          "data": {
            "text/plain": [
              "array([[1.]], dtype=float32)"
            ]
          },
          "metadata": {
            "tags": []
          },
          "execution_count": 85
        }
      ]
    },
    {
      "cell_type": "markdown",
      "metadata": {
        "id": "639sR8a4PQ7-"
      },
      "source": [
        "# K-fold cross validation (k=5)"
      ]
    },
    {
      "cell_type": "code",
      "metadata": {
        "id": "8eVep4K1ORM8"
      },
      "source": [
        "from keras.models import Sequential\n",
        "from keras.layers import Dense, Flatten, LSTM, Conv1D, MaxPooling1D, Dropout, Activation, Flatten\n",
        "from keras.layers.embeddings import Embedding\n",
        "from tensorflow.keras.metrics import Precision, Recall\n",
        "from sklearn.model_selection import StratifiedKFold\n",
        "import numpy as np\n",
        "from sklearn.metrics import confusion_matrix"
      ],
      "execution_count": null,
      "outputs": []
    },
    {
      "cell_type": "code",
      "metadata": {
        "id": "Zo4Dzy8nWlL1",
        "outputId": "eb6c7ae5-1e9e-4ab3-dc09-e94fa82411d8",
        "colab": {
          "base_uri": "https://localhost:8080/",
          "height": 33
        }
      },
      "source": [
        "dataset_path = '/content/gdrive/My Drive/minor/datasets/'\n",
        "model_path = '/content/gdrive/My Drive/minor/models/'\n",
        "X_train = np.array(np.load(dataset_path+'X_train.npy'))\n",
        "y_train =np.array(np.load(dataset_path+'y_train.npy'))\n",
        "X_test = np.array(np.load(dataset_path+'X_test.npy'))\n",
        "y_test = np.array(np.load(dataset_path+'y_test.npy'))\n",
        "\n",
        "embedding_matrix = np.load(model_path+'embedding_matrix.npy')\n",
        "vocab_size = embedding_matrix.shape[0]\n",
        "input_embedding_length = X_train.shape[1]\n",
        "embedding_dim = embedding_matrix.shape[1]\n",
        "\n",
        "vocab_size,input_embedding_length,embedding_dim,len(X_train)"
      ],
      "execution_count": null,
      "outputs": [
        {
          "output_type": "execute_result",
          "data": {
            "text/plain": [
              "(31374, 300, 100, 431883)"
            ]
          },
          "metadata": {
            "tags": []
          },
          "execution_count": 18
        }
      ]
    },
    {
      "cell_type": "code",
      "metadata": {
        "id": "XsizYlXZ1J-0",
        "outputId": "16c8ad37-6396-4e86-a1e1-2bc8f1b10ddc",
        "colab": {
          "base_uri": "https://localhost:8080/",
          "height": 33
        }
      },
      "source": [
        "X_train.shape"
      ],
      "execution_count": null,
      "outputs": [
        {
          "output_type": "execute_result",
          "data": {
            "text/plain": [
              "(431883, 300)"
            ]
          },
          "metadata": {
            "tags": []
          },
          "execution_count": 21
        }
      ]
    },
    {
      "cell_type": "code",
      "metadata": {
        "id": "aJJXcPc_YklO",
        "outputId": "ec876d0c-bc39-4a22-b70e-0de9a90f079e",
        "colab": {
          "base_uri": "https://localhost:8080/",
          "height": 1000
        }
      },
      "source": [
        "k=5\n",
        "kfold = StratifiedKFold(k,shuffle=True,random_state=12)\n",
        "acc_per_fold = []\n",
        "prec_per_fold=[]\n",
        "recall_per_fold=[]\n",
        "histories=[]\n",
        "loss_per_fold = []\n",
        "fold=1\n",
        "\n",
        "for train, test in kfold.split(preprocessed_data,np.array(labels)):\n",
        "  print(f\"Fold {fold} \")\n",
        "  _, counts = np.unique(y_train, return_counts=True)\n",
        "  print('deceptive/genuine : ',float(counts[0]/len(train)))\n",
        "  def create_model():\n",
        "    model_conv = Sequential()\n",
        "    model_conv.add(Embedding(vocab_size, embedding_dim, input_length=300, weights=[embedding_matrix], trainable=False))\n",
        "    model_conv.add(Conv1D(100, 5, activation='relu'))\n",
        "    model_conv.add(Conv1D(100, 5, activation='relu'))\n",
        "    model_conv.add(Conv1D(40, 5, activation='relu'))\n",
        "    model_conv.add(Flatten())\n",
        "    model_conv.add(Dense(1, activation='sigmoid'))\n",
        "    model_conv.compile(loss='binary_crossentropy', optimizer='adam', metrics=['accuracy',Precision(),Recall()])\n",
        "    return model_conv\n",
        "  model = create_model()\n",
        "  history = model.fit(preprocessed_data[train], np.array(labels)[train], batch_size=1000 ,validation_split=0.2, epochs = 25)\n",
        "  y_pred = model.predict(preprocessed_data[test])\n",
        "  scores = model.evaluate(preprocessed_data[test], np.array(labels)[test])\n",
        "  cm = confusion_matrix(np.array(labels)[test],y_pred.round())\n",
        "  acc_per_fold.append(scores[1])\n",
        "  prec_per_fold.append(scores[2])\n",
        "  recall_per_fold.append(scores[3])\n",
        "  histories.append(history)\n",
        "  print(f'Score for fold {fold}: {model.metrics_names[0]}={scores[0]}; {model.metrics_names[1]}={scores[1]}; {model.metrics_names[2]}={scores[2]}; {model.metrics_names[3]}={scores[3]}')\n",
        "  print(cm,'\\n\\n\\n')\n",
        "  fold += 1\n"
      ],
      "execution_count": null,
      "outputs": [
        {
          "output_type": "stream",
          "text": [
            "Fold 1 \n",
            "deceptive/genuine :  0.5970316000301008\n",
            "Epoch 1/25\n",
            "277/277 [==============================] - 25s 90ms/step - loss: 0.6480 - accuracy: 0.6192 - precision_8: 0.6382 - recall_8: 0.6273 - val_loss: 0.6318 - val_accuracy: 0.6369 - val_precision_8: 0.6496 - val_recall_8: 0.6580\n",
            "Epoch 2/25\n",
            "277/277 [==============================] - 24s 88ms/step - loss: 0.6060 - accuracy: 0.6659 - precision_8: 0.6849 - recall_8: 0.6687 - val_loss: 0.5900 - val_accuracy: 0.6762 - val_precision_8: 0.6662 - val_recall_8: 0.7584\n",
            "Epoch 3/25\n",
            "277/277 [==============================] - 24s 88ms/step - loss: 0.5221 - accuracy: 0.7378 - precision_8: 0.7576 - recall_8: 0.7329 - val_loss: 0.5288 - val_accuracy: 0.7357 - val_precision_8: 0.7813 - val_recall_8: 0.6843\n",
            "Epoch 4/25\n",
            "277/277 [==============================] - 24s 88ms/step - loss: 0.4334 - accuracy: 0.8000 - precision_8: 0.8243 - recall_8: 0.7849 - val_loss: 0.4931 - val_accuracy: 0.7601 - val_precision_8: 0.7469 - val_recall_8: 0.8161\n",
            "Epoch 5/25\n",
            "277/277 [==============================] - 24s 87ms/step - loss: 0.3586 - accuracy: 0.8462 - precision_8: 0.8707 - recall_8: 0.8288 - val_loss: 0.4525 - val_accuracy: 0.7959 - val_precision_8: 0.8092 - val_recall_8: 0.7958\n",
            "Epoch 6/25\n",
            "277/277 [==============================] - 24s 87ms/step - loss: 0.2977 - accuracy: 0.8790 - precision_8: 0.9035 - recall_8: 0.8603 - val_loss: 0.4304 - val_accuracy: 0.8251 - val_precision_8: 0.8712 - val_recall_8: 0.7796\n",
            "Epoch 7/25\n",
            "277/277 [==============================] - 24s 87ms/step - loss: 0.2483 - accuracy: 0.9040 - precision_8: 0.9277 - recall_8: 0.8853 - val_loss: 0.4319 - val_accuracy: 0.8366 - val_precision_8: 0.8965 - val_recall_8: 0.7759\n",
            "Epoch 8/25\n",
            "277/277 [==============================] - 24s 87ms/step - loss: 0.2080 - accuracy: 0.9223 - precision_8: 0.9441 - recall_8: 0.9050 - val_loss: 0.4223 - val_accuracy: 0.8477 - val_precision_8: 0.9102 - val_recall_8: 0.7851\n",
            "Epoch 9/25\n",
            "277/277 [==============================] - 24s 87ms/step - loss: 0.1755 - accuracy: 0.9360 - precision_8: 0.9548 - recall_8: 0.9212 - val_loss: 0.4366 - val_accuracy: 0.8552 - val_precision_8: 0.9376 - val_recall_8: 0.7735\n",
            "Epoch 10/25\n",
            "277/277 [==============================] - 24s 87ms/step - loss: 0.1454 - accuracy: 0.9490 - precision_8: 0.9649 - recall_8: 0.9366 - val_loss: 0.4315 - val_accuracy: 0.8681 - val_precision_8: 0.9418 - val_recall_8: 0.7960\n",
            "Epoch 11/25\n",
            "277/277 [==============================] - 24s 87ms/step - loss: 0.1258 - accuracy: 0.9560 - precision_8: 0.9698 - recall_8: 0.9451 - val_loss: 0.4577 - val_accuracy: 0.8670 - val_precision_8: 0.9460 - val_recall_8: 0.7899\n",
            "Epoch 12/25\n",
            "277/277 [==============================] - 24s 87ms/step - loss: 0.1069 - accuracy: 0.9630 - precision_8: 0.9752 - recall_8: 0.9534 - val_loss: 0.5175 - val_accuracy: 0.8665 - val_precision_8: 0.9571 - val_recall_8: 0.7786\n",
            "Epoch 13/25\n",
            "277/277 [==============================] - 24s 87ms/step - loss: 0.0997 - accuracy: 0.9655 - precision_8: 0.9762 - recall_8: 0.9575 - val_loss: 0.4379 - val_accuracy: 0.8798 - val_precision_8: 0.9240 - val_recall_8: 0.8383\n",
            "Epoch 14/25\n",
            "277/277 [==============================] - 24s 87ms/step - loss: 0.0839 - accuracy: 0.9717 - precision_8: 0.9813 - recall_8: 0.9642 - val_loss: 0.4646 - val_accuracy: 0.8851 - val_precision_8: 0.9458 - val_recall_8: 0.8267\n",
            "Epoch 15/25\n",
            "277/277 [==============================] - 24s 87ms/step - loss: 0.0741 - accuracy: 0.9752 - precision_8: 0.9834 - recall_8: 0.9689 - val_loss: 0.4726 - val_accuracy: 0.8875 - val_precision_8: 0.9454 - val_recall_8: 0.8322\n",
            "Epoch 16/25\n",
            "277/277 [==============================] - 24s 88ms/step - loss: 0.0646 - accuracy: 0.9789 - precision_8: 0.9859 - recall_8: 0.9736 - val_loss: 0.6071 - val_accuracy: 0.8754 - val_precision_8: 0.9708 - val_recall_8: 0.7845\n",
            "Epoch 17/25\n",
            "277/277 [==============================] - 24s 88ms/step - loss: 0.0647 - accuracy: 0.9784 - precision_8: 0.9853 - recall_8: 0.9732 - val_loss: 0.5413 - val_accuracy: 0.8857 - val_precision_8: 0.9563 - val_recall_8: 0.8181\n",
            "Epoch 18/25\n",
            "277/277 [==============================] - 24s 88ms/step - loss: 0.0586 - accuracy: 0.9807 - precision_8: 0.9869 - recall_8: 0.9761 - val_loss: 0.7717 - val_accuracy: 0.8581 - val_precision_8: 0.9748 - val_recall_8: 0.7470\n",
            "Epoch 19/25\n",
            "277/277 [==============================] - 24s 88ms/step - loss: 0.0619 - accuracy: 0.9790 - precision_8: 0.9853 - recall_8: 0.9744 - val_loss: 0.6208 - val_accuracy: 0.8822 - val_precision_8: 0.9659 - val_recall_8: 0.8022\n",
            "Epoch 20/25\n",
            "277/277 [==============================] - 24s 88ms/step - loss: 0.0534 - accuracy: 0.9823 - precision_8: 0.9878 - recall_8: 0.9782 - val_loss: 0.7050 - val_accuracy: 0.8780 - val_precision_8: 0.9750 - val_recall_8: 0.7860\n",
            "Epoch 21/25\n",
            "277/277 [==============================] - 24s 88ms/step - loss: 0.0498 - accuracy: 0.9836 - precision_8: 0.9884 - recall_8: 0.9802 - val_loss: 0.6111 - val_accuracy: 0.8920 - val_precision_8: 0.9672 - val_recall_8: 0.8206\n",
            "Epoch 22/25\n",
            "277/277 [==============================] - 24s 88ms/step - loss: 0.0523 - accuracy: 0.9826 - precision_8: 0.9876 - recall_8: 0.9790 - val_loss: 0.5644 - val_accuracy: 0.8899 - val_precision_8: 0.9394 - val_recall_8: 0.8430\n",
            "Epoch 23/25\n",
            "277/277 [==============================] - 24s 88ms/step - loss: 0.0546 - accuracy: 0.9814 - precision_8: 0.9865 - recall_8: 0.9779 - val_loss: 0.6368 - val_accuracy: 0.8879 - val_precision_8: 0.9581 - val_recall_8: 0.8208\n",
            "Epoch 24/25\n",
            "277/277 [==============================] - 24s 87ms/step - loss: 0.0462 - accuracy: 0.9847 - precision_8: 0.9891 - recall_8: 0.9815 - val_loss: 0.6378 - val_accuracy: 0.8906 - val_precision_8: 0.9587 - val_recall_8: 0.8256\n",
            "Epoch 25/25\n",
            "277/277 [==============================] - 24s 87ms/step - loss: 0.0428 - accuracy: 0.9861 - precision_8: 0.9902 - recall_8: 0.9831 - val_loss: 0.7494 - val_accuracy: 0.8859 - val_precision_8: 0.9777 - val_recall_8: 0.7992\n",
            "2700/2700 [==============================] - 11s 4ms/step - loss: 0.7562 - accuracy: 0.8845 - precision_8: 0.9784 - recall_8: 0.7964\n",
            "Score for fold 1: loss=0.7561692595481873; accuracy=0.8844599723815918; precision_8=0.9784106016159058; recall_8=0.7964099645614624\n",
            "[[40459   793]\n",
            " [ 9187 35938]] \n",
            "\n",
            "\n",
            "\n",
            "Fold 2 \n",
            "deceptive/genuine :  0.5970316000301008\n",
            "Epoch 1/25\n",
            "277/277 [==============================] - 24s 88ms/step - loss: 0.6451 - accuracy: 0.6236 - precision_9: 0.6426 - recall_9: 0.6310 - val_loss: 0.6302 - val_accuracy: 0.6374 - val_precision_9: 0.6360 - val_recall_9: 0.7101\n",
            "Epoch 2/25\n",
            "277/277 [==============================] - 24s 87ms/step - loss: 0.5960 - accuracy: 0.6735 - precision_9: 0.6962 - recall_9: 0.6664 - val_loss: 0.5767 - val_accuracy: 0.6907 - val_precision_9: 0.7095 - val_recall_9: 0.6875\n",
            "Epoch 3/25\n",
            "277/277 [==============================] - 24s 87ms/step - loss: 0.5156 - accuracy: 0.7417 - precision_9: 0.7709 - recall_9: 0.7199 - val_loss: 0.5271 - val_accuracy: 0.7353 - val_precision_9: 0.7839 - val_recall_9: 0.6789\n",
            "Epoch 4/25\n",
            "277/277 [==============================] - 24s 87ms/step - loss: 0.4375 - accuracy: 0.7963 - precision_9: 0.8294 - recall_9: 0.7685 - val_loss: 0.4926 - val_accuracy: 0.7564 - val_precision_9: 0.7494 - val_recall_9: 0.7996\n",
            "Epoch 5/25\n",
            "277/277 [==============================] - 24s 87ms/step - loss: 0.3702 - accuracy: 0.8379 - precision_9: 0.8716 - recall_9: 0.8091 - val_loss: 0.4615 - val_accuracy: 0.7895 - val_precision_9: 0.8338 - val_recall_9: 0.7440\n",
            "Epoch 6/25\n",
            "277/277 [==============================] - 24s 87ms/step - loss: 0.3142 - accuracy: 0.8684 - precision_9: 0.9015 - recall_9: 0.8400 - val_loss: 0.4328 - val_accuracy: 0.8102 - val_precision_9: 0.8512 - val_recall_9: 0.7702\n",
            "Epoch 7/25\n",
            "277/277 [==============================] - 24s 87ms/step - loss: 0.2681 - accuracy: 0.8924 - precision_9: 0.9236 - recall_9: 0.8658 - val_loss: 0.4264 - val_accuracy: 0.8246 - val_precision_9: 0.8691 - val_recall_9: 0.7808\n",
            "Epoch 8/25\n",
            "277/277 [==============================] - 24s 87ms/step - loss: 0.2282 - accuracy: 0.9117 - precision_9: 0.9402 - recall_9: 0.8875 - val_loss: 0.4622 - val_accuracy: 0.8263 - val_precision_9: 0.9205 - val_recall_9: 0.7294\n",
            "Epoch 9/25\n",
            "277/277 [==============================] - 24s 87ms/step - loss: 0.1946 - accuracy: 0.9267 - precision_9: 0.9530 - recall_9: 0.9044 - val_loss: 0.3986 - val_accuracy: 0.8504 - val_precision_9: 0.8887 - val_recall_9: 0.8147\n",
            "Epoch 10/25\n",
            "277/277 [==============================] - 24s 87ms/step - loss: 0.1719 - accuracy: 0.9362 - precision_9: 0.9594 - recall_9: 0.9168 - val_loss: 0.4107 - val_accuracy: 0.8557 - val_precision_9: 0.8995 - val_recall_9: 0.8139\n",
            "Epoch 11/25\n",
            "277/277 [==============================] - 24s 87ms/step - loss: 0.1456 - accuracy: 0.9471 - precision_9: 0.9678 - recall_9: 0.9297 - val_loss: 0.4152 - val_accuracy: 0.8487 - val_precision_9: 0.8561 - val_recall_9: 0.8529\n",
            "Epoch 12/25\n",
            "277/277 [==============================] - 24s 87ms/step - loss: 0.1284 - accuracy: 0.9542 - precision_9: 0.9724 - recall_9: 0.9391 - val_loss: 0.4728 - val_accuracy: 0.8636 - val_precision_9: 0.9526 - val_recall_9: 0.7767\n",
            "Epoch 13/25\n",
            "277/277 [==============================] - 24s 87ms/step - loss: 0.1135 - accuracy: 0.9599 - precision_9: 0.9761 - recall_9: 0.9466 - val_loss: 0.4241 - val_accuracy: 0.8730 - val_precision_9: 0.9178 - val_recall_9: 0.8305\n",
            "Epoch 14/25\n",
            "277/277 [==============================] - 24s 87ms/step - loss: 0.0997 - accuracy: 0.9657 - precision_9: 0.9800 - recall_9: 0.9539 - val_loss: 0.4515 - val_accuracy: 0.8778 - val_precision_9: 0.9427 - val_recall_9: 0.8149\n",
            "Epoch 15/25\n",
            "277/277 [==============================] - 24s 87ms/step - loss: 0.0868 - accuracy: 0.9705 - precision_9: 0.9835 - recall_9: 0.9597 - val_loss: 0.5064 - val_accuracy: 0.8771 - val_precision_9: 0.9541 - val_recall_9: 0.8026\n",
            "Epoch 16/25\n",
            "277/277 [==============================] - 24s 87ms/step - loss: 0.0859 - accuracy: 0.9702 - precision_9: 0.9819 - recall_9: 0.9607 - val_loss: 0.6405 - val_accuracy: 0.8582 - val_precision_9: 0.9666 - val_recall_9: 0.7537\n",
            "Epoch 17/25\n",
            "277/277 [==============================] - 24s 87ms/step - loss: 0.0857 - accuracy: 0.9695 - precision_9: 0.9809 - recall_9: 0.9603 - val_loss: 0.5062 - val_accuracy: 0.8838 - val_precision_9: 0.9563 - val_recall_9: 0.8141\n",
            "Epoch 18/25\n",
            "277/277 [==============================] - 24s 87ms/step - loss: 0.0699 - accuracy: 0.9763 - precision_9: 0.9862 - recall_9: 0.9682 - val_loss: 0.5855 - val_accuracy: 0.8795 - val_precision_9: 0.9721 - val_recall_9: 0.7913\n",
            "Epoch 19/25\n",
            "277/277 [==============================] - 24s 88ms/step - loss: 0.0612 - accuracy: 0.9797 - precision_9: 0.9886 - recall_9: 0.9724 - val_loss: 0.6963 - val_accuracy: 0.8665 - val_precision_9: 0.9796 - val_recall_9: 0.7594\n",
            "Epoch 20/25\n",
            "277/277 [==============================] - 24s 88ms/step - loss: 0.0629 - accuracy: 0.9790 - precision_9: 0.9878 - recall_9: 0.9718 - val_loss: 0.6774 - val_accuracy: 0.8729 - val_precision_9: 0.9709 - val_recall_9: 0.7794\n",
            "Epoch 21/25\n",
            "277/277 [==============================] - 24s 88ms/step - loss: 0.0753 - accuracy: 0.9730 - precision_9: 0.9818 - recall_9: 0.9662 - val_loss: 0.6815 - val_accuracy: 0.8738 - val_precision_9: 0.9689 - val_recall_9: 0.7828\n",
            "Epoch 22/25\n",
            "277/277 [==============================] - 24s 88ms/step - loss: 0.0596 - accuracy: 0.9802 - precision_9: 0.9884 - recall_9: 0.9735 - val_loss: 0.5954 - val_accuracy: 0.8901 - val_precision_9: 0.9713 - val_recall_9: 0.8130\n",
            "Epoch 23/25\n",
            "277/277 [==============================] - 24s 87ms/step - loss: 0.0507 - accuracy: 0.9839 - precision_9: 0.9909 - recall_9: 0.9783 - val_loss: 0.5862 - val_accuracy: 0.8924 - val_precision_9: 0.9622 - val_recall_9: 0.8258\n",
            "Epoch 24/25\n",
            "277/277 [==============================] - 24s 88ms/step - loss: 0.0456 - accuracy: 0.9863 - precision_9: 0.9926 - recall_9: 0.9811 - val_loss: 0.6666 - val_accuracy: 0.8877 - val_precision_9: 0.9725 - val_recall_9: 0.8072\n",
            "Epoch 25/25\n",
            "277/277 [==============================] - 24s 88ms/step - loss: 0.0614 - accuracy: 0.9794 - precision_9: 0.9862 - recall_9: 0.9742 - val_loss: 0.6585 - val_accuracy: 0.8635 - val_precision_9: 0.9291 - val_recall_9: 0.7989\n",
            "2700/2700 [==============================] - 11s 4ms/step - loss: 0.6584 - accuracy: 0.8638 - precision_9: 0.9298 - recall_9: 0.7997\n",
            "Score for fold 2: loss=0.6583972573280334; accuracy=0.863829493522644; precision_9=0.9298136830329895; recall_9=0.7997118830680847\n",
            "[[38528  2724]\n",
            " [ 9038 36087]] \n",
            "\n",
            "\n",
            "\n",
            "Fold 3 \n",
            "deceptive/genuine :  0.5970316000301008\n",
            "Epoch 1/25\n",
            "277/277 [==============================] - 25s 89ms/step - loss: 0.6490 - accuracy: 0.6193 - precision_10: 0.6368 - recall_10: 0.6324 - val_loss: 0.6295 - val_accuracy: 0.6396 - val_precision_10: 0.6545 - val_recall_10: 0.6533\n",
            "Epoch 2/25\n",
            "277/277 [==============================] - 24s 88ms/step - loss: 0.6029 - accuracy: 0.6680 - precision_10: 0.6854 - recall_10: 0.6745 - val_loss: 0.5835 - val_accuracy: 0.6819 - val_precision_10: 0.6818 - val_recall_10: 0.7307\n",
            "Epoch 3/25\n",
            "277/277 [==============================] - 24s 88ms/step - loss: 0.5181 - accuracy: 0.7416 - precision_10: 0.7623 - recall_10: 0.7347 - val_loss: 0.5237 - val_accuracy: 0.7385 - val_precision_10: 0.7715 - val_recall_10: 0.7078\n",
            "Epoch 4/25\n",
            "277/277 [==============================] - 24s 88ms/step - loss: 0.4268 - accuracy: 0.8039 - precision_10: 0.8293 - recall_10: 0.7868 - val_loss: 0.4821 - val_accuracy: 0.7735 - val_precision_10: 0.8071 - val_recall_10: 0.7430\n",
            "Epoch 5/25\n",
            "277/277 [==============================] - 24s 88ms/step - loss: 0.3503 - accuracy: 0.8502 - precision_10: 0.8763 - recall_10: 0.8306 - val_loss: 0.4513 - val_accuracy: 0.8020 - val_precision_10: 0.8549 - val_recall_10: 0.7468\n",
            "Epoch 6/25\n",
            "277/277 [==============================] - 24s 88ms/step - loss: 0.2898 - accuracy: 0.8826 - precision_10: 0.9083 - recall_10: 0.8626 - val_loss: 0.4259 - val_accuracy: 0.8273 - val_precision_10: 0.8785 - val_recall_10: 0.7760\n",
            "Epoch 7/25\n",
            "277/277 [==============================] - 24s 87ms/step - loss: 0.2414 - accuracy: 0.9061 - precision_10: 0.9296 - recall_10: 0.8875 - val_loss: 0.4210 - val_accuracy: 0.8416 - val_precision_10: 0.9074 - val_recall_10: 0.7750\n",
            "Epoch 8/25\n",
            "277/277 [==============================] - 24s 88ms/step - loss: 0.2023 - accuracy: 0.9239 - precision_10: 0.9455 - recall_10: 0.9066 - val_loss: 0.4116 - val_accuracy: 0.8514 - val_precision_10: 0.8985 - val_recall_10: 0.8058\n",
            "Epoch 9/25\n",
            "277/277 [==============================] - 24s 88ms/step - loss: 0.1692 - accuracy: 0.9380 - precision_10: 0.9569 - recall_10: 0.9230 - val_loss: 0.5017 - val_accuracy: 0.8424 - val_precision_10: 0.9473 - val_recall_10: 0.7387\n",
            "Epoch 10/25\n",
            "277/277 [==============================] - 24s 88ms/step - loss: 0.1424 - accuracy: 0.9496 - precision_10: 0.9661 - recall_10: 0.9363 - val_loss: 0.4960 - val_accuracy: 0.8569 - val_precision_10: 0.9425 - val_recall_10: 0.7725\n",
            "Epoch 11/25\n",
            "277/277 [==============================] - 24s 88ms/step - loss: 0.1230 - accuracy: 0.9570 - precision_10: 0.9711 - recall_10: 0.9458 - val_loss: 0.4383 - val_accuracy: 0.8741 - val_precision_10: 0.9393 - val_recall_10: 0.8108\n",
            "Epoch 12/25\n",
            "277/277 [==============================] - 24s 87ms/step - loss: 0.1052 - accuracy: 0.9641 - precision_10: 0.9764 - recall_10: 0.9544 - val_loss: 0.4835 - val_accuracy: 0.8722 - val_precision_10: 0.9488 - val_recall_10: 0.7980\n",
            "Epoch 13/25\n",
            "277/277 [==============================] - 24s 88ms/step - loss: 0.0940 - accuracy: 0.9680 - precision_10: 0.9785 - recall_10: 0.9598 - val_loss: 0.4786 - val_accuracy: 0.8797 - val_precision_10: 0.9475 - val_recall_10: 0.8142\n",
            "Epoch 14/25\n",
            "277/277 [==============================] - 24s 88ms/step - loss: 0.0794 - accuracy: 0.9736 - precision_10: 0.9827 - recall_10: 0.9665 - val_loss: 0.4992 - val_accuracy: 0.8832 - val_precision_10: 0.9476 - val_recall_10: 0.8213\n",
            "Epoch 15/25\n",
            "277/277 [==============================] - 24s 88ms/step - loss: 0.0769 - accuracy: 0.9740 - precision_10: 0.9822 - recall_10: 0.9678 - val_loss: 0.4965 - val_accuracy: 0.8851 - val_precision_10: 0.9411 - val_recall_10: 0.8316\n",
            "Epoch 16/25\n",
            "277/277 [==============================] - 24s 88ms/step - loss: 0.0686 - accuracy: 0.9771 - precision_10: 0.9847 - recall_10: 0.9713 - val_loss: 0.5140 - val_accuracy: 0.8815 - val_precision_10: 0.9293 - val_recall_10: 0.8363\n",
            "Epoch 17/25\n",
            "277/277 [==============================] - 24s 87ms/step - loss: 0.0664 - accuracy: 0.9775 - precision_10: 0.9848 - recall_10: 0.9720 - val_loss: 0.5332 - val_accuracy: 0.8847 - val_precision_10: 0.9442 - val_recall_10: 0.8278\n",
            "Epoch 18/25\n",
            "277/277 [==============================] - 24s 87ms/step - loss: 0.0602 - accuracy: 0.9803 - precision_10: 0.9870 - recall_10: 0.9753 - val_loss: 0.5398 - val_accuracy: 0.8918 - val_precision_10: 0.9477 - val_recall_10: 0.8386\n",
            "Epoch 19/25\n",
            "277/277 [==============================] - 24s 88ms/step - loss: 0.0523 - accuracy: 0.9832 - precision_10: 0.9891 - recall_10: 0.9787 - val_loss: 0.6442 - val_accuracy: 0.8835 - val_precision_10: 0.9655 - val_recall_10: 0.8053\n",
            "Epoch 20/25\n",
            "277/277 [==============================] - 24s 88ms/step - loss: 0.0595 - accuracy: 0.9798 - precision_10: 0.9858 - recall_10: 0.9755 - val_loss: 0.6720 - val_accuracy: 0.8814 - val_precision_10: 0.9664 - val_recall_10: 0.8003\n",
            "Epoch 21/25\n",
            "277/277 [==============================] - 24s 88ms/step - loss: 0.0530 - accuracy: 0.9822 - precision_10: 0.9876 - recall_10: 0.9782 - val_loss: 0.6373 - val_accuracy: 0.8889 - val_precision_10: 0.9632 - val_recall_10: 0.8180\n",
            "Epoch 22/25\n",
            "277/277 [==============================] - 24s 88ms/step - loss: 0.0480 - accuracy: 0.9844 - precision_10: 0.9894 - recall_10: 0.9807 - val_loss: 0.6471 - val_accuracy: 0.8859 - val_precision_10: 0.9570 - val_recall_10: 0.8178\n",
            "Epoch 23/25\n",
            "277/277 [==============================] - 24s 88ms/step - loss: 0.0520 - accuracy: 0.9826 - precision_10: 0.9879 - recall_10: 0.9786 - val_loss: 0.8143 - val_accuracy: 0.8733 - val_precision_10: 0.9749 - val_recall_10: 0.7768\n",
            "Epoch 24/25\n",
            "277/277 [==============================] - 24s 88ms/step - loss: 0.0592 - accuracy: 0.9794 - precision_10: 0.9851 - recall_10: 0.9754 - val_loss: 0.6607 - val_accuracy: 0.8885 - val_precision_10: 0.9594 - val_recall_10: 0.8208\n",
            "Epoch 25/25\n",
            "277/277 [==============================] - 24s 88ms/step - loss: 0.0473 - accuracy: 0.9843 - precision_10: 0.9892 - recall_10: 0.9806 - val_loss: 0.6241 - val_accuracy: 0.8954 - val_precision_10: 0.9512 - val_recall_10: 0.8425\n",
            "2700/2700 [==============================] - 11s 4ms/step - loss: 0.6090 - accuracy: 0.8956 - precision_10: 0.9531 - recall_10: 0.8415\n",
            "Score for fold 3: loss=0.6089763641357422; accuracy=0.8955856561660767; precision_10=0.9531375765800476; recall_10=0.8415068984031677\n",
            "[[39385  1867]\n",
            " [ 7152 37973]] \n",
            "\n",
            "\n",
            "\n",
            "Fold 4 \n",
            "deceptive/genuine :  0.5970298720431134\n",
            "Epoch 1/25\n",
            "277/277 [==============================] - 25s 90ms/step - loss: 0.6471 - accuracy: 0.6209 - precision_11: 0.6399 - recall_11: 0.6294 - val_loss: 0.6319 - val_accuracy: 0.6366 - val_precision_11: 0.6617 - val_recall_11: 0.6149\n",
            "Epoch 2/25\n",
            "277/277 [==============================] - 24s 88ms/step - loss: 0.6021 - accuracy: 0.6681 - precision_11: 0.6906 - recall_11: 0.6622 - val_loss: 0.5794 - val_accuracy: 0.6846 - val_precision_11: 0.6860 - val_recall_11: 0.7247\n",
            "Epoch 3/25\n",
            "277/277 [==============================] - 24s 88ms/step - loss: 0.5237 - accuracy: 0.7350 - precision_11: 0.7632 - recall_11: 0.7156 - val_loss: 0.5306 - val_accuracy: 0.7268 - val_precision_11: 0.7292 - val_recall_11: 0.7541\n",
            "Epoch 4/25\n",
            "277/277 [==============================] - 24s 88ms/step - loss: 0.4408 - accuracy: 0.7939 - precision_11: 0.8263 - recall_11: 0.7674 - val_loss: 0.4893 - val_accuracy: 0.7667 - val_precision_11: 0.7981 - val_recall_11: 0.7375\n",
            "Epoch 5/25\n",
            "277/277 [==============================] - 24s 88ms/step - loss: 0.3745 - accuracy: 0.8354 - precision_11: 0.8684 - recall_11: 0.8076 - val_loss: 0.4971 - val_accuracy: 0.7772 - val_precision_11: 0.9024 - val_recall_11: 0.6404\n",
            "Epoch 6/25\n",
            "277/277 [==============================] - 24s 88ms/step - loss: 0.3152 - accuracy: 0.8688 - precision_11: 0.9016 - recall_11: 0.8410 - val_loss: 0.4428 - val_accuracy: 0.8130 - val_precision_11: 0.8882 - val_recall_11: 0.7322\n",
            "Epoch 7/25\n",
            "277/277 [==============================] - 24s 88ms/step - loss: 0.2670 - accuracy: 0.8935 - precision_11: 0.9246 - recall_11: 0.8672 - val_loss: 0.4295 - val_accuracy: 0.8311 - val_precision_11: 0.9052 - val_recall_11: 0.7540\n",
            "Epoch 8/25\n",
            "277/277 [==============================] - 24s 88ms/step - loss: 0.2288 - accuracy: 0.9120 - precision_11: 0.9400 - recall_11: 0.8884 - val_loss: 0.4042 - val_accuracy: 0.8453 - val_precision_11: 0.8944 - val_recall_11: 0.7962\n",
            "Epoch 9/25\n",
            "277/277 [==============================] - 24s 88ms/step - loss: 0.1989 - accuracy: 0.9253 - precision_11: 0.9503 - recall_11: 0.9044 - val_loss: 0.4244 - val_accuracy: 0.8504 - val_precision_11: 0.9306 - val_recall_11: 0.7694\n",
            "Epoch 10/25\n",
            "277/277 [==============================] - 24s 88ms/step - loss: 0.1671 - accuracy: 0.9395 - precision_11: 0.9621 - recall_11: 0.9207 - val_loss: 0.4048 - val_accuracy: 0.8622 - val_precision_11: 0.9020 - val_recall_11: 0.8243\n",
            "Epoch 11/25\n",
            "277/277 [==============================] - 24s 88ms/step - loss: 0.1436 - accuracy: 0.9489 - precision_11: 0.9687 - recall_11: 0.9325 - val_loss: 0.4370 - val_accuracy: 0.8653 - val_precision_11: 0.9401 - val_recall_11: 0.7910\n",
            "Epoch 12/25\n",
            "277/277 [==============================] - 24s 88ms/step - loss: 0.1265 - accuracy: 0.9558 - precision_11: 0.9735 - recall_11: 0.9411 - val_loss: 0.4295 - val_accuracy: 0.8778 - val_precision_11: 0.9473 - val_recall_11: 0.8099\n",
            "Epoch 13/25\n",
            "277/277 [==============================] - 24s 88ms/step - loss: 0.1125 - accuracy: 0.9607 - precision_11: 0.9760 - recall_11: 0.9482 - val_loss: 0.4856 - val_accuracy: 0.8726 - val_precision_11: 0.9659 - val_recall_11: 0.7823\n",
            "Epoch 14/25\n",
            "277/277 [==============================] - 24s 88ms/step - loss: 0.0958 - accuracy: 0.9675 - precision_11: 0.9813 - recall_11: 0.9560 - val_loss: 0.4765 - val_accuracy: 0.8808 - val_precision_11: 0.9623 - val_recall_11: 0.8020\n",
            "Epoch 15/25\n",
            "277/277 [==============================] - 24s 88ms/step - loss: 0.0833 - accuracy: 0.9723 - precision_11: 0.9843 - recall_11: 0.9625 - val_loss: 0.4809 - val_accuracy: 0.8845 - val_precision_11: 0.9562 - val_recall_11: 0.8151\n",
            "Epoch 16/25\n",
            "277/277 [==============================] - 24s 88ms/step - loss: 0.0798 - accuracy: 0.9730 - precision_11: 0.9841 - recall_11: 0.9640 - val_loss: 0.5998 - val_accuracy: 0.8699 - val_precision_11: 0.9704 - val_recall_11: 0.7732\n",
            "Epoch 17/25\n",
            "277/277 [==============================] - 24s 88ms/step - loss: 0.0706 - accuracy: 0.9769 - precision_11: 0.9869 - recall_11: 0.9688 - val_loss: 0.4750 - val_accuracy: 0.8836 - val_precision_11: 0.9150 - val_recall_11: 0.8554\n",
            "Epoch 18/25\n",
            "277/277 [==============================] - 24s 88ms/step - loss: 0.0711 - accuracy: 0.9758 - precision_11: 0.9852 - recall_11: 0.9683 - val_loss: 0.6145 - val_accuracy: 0.8750 - val_precision_11: 0.9623 - val_recall_11: 0.7904\n",
            "Epoch 19/25\n",
            "277/277 [==============================] - 24s 88ms/step - loss: 0.0688 - accuracy: 0.9766 - precision_11: 0.9856 - recall_11: 0.9694 - val_loss: 0.6680 - val_accuracy: 0.8709 - val_precision_11: 0.9608 - val_recall_11: 0.7834\n",
            "Epoch 20/25\n",
            "277/277 [==============================] - 24s 88ms/step - loss: 0.0638 - accuracy: 0.9787 - precision_11: 0.9875 - recall_11: 0.9716 - val_loss: 0.6697 - val_accuracy: 0.8781 - val_precision_11: 0.9792 - val_recall_11: 0.7820\n",
            "Epoch 21/25\n",
            "277/277 [==============================] - 24s 88ms/step - loss: 0.0532 - accuracy: 0.9831 - precision_11: 0.9905 - recall_11: 0.9770 - val_loss: 0.6297 - val_accuracy: 0.8847 - val_precision_11: 0.9671 - val_recall_11: 0.8054\n",
            "Epoch 22/25\n",
            "277/277 [==============================] - 24s 88ms/step - loss: 0.0524 - accuracy: 0.9836 - precision_11: 0.9906 - recall_11: 0.9779 - val_loss: 0.6211 - val_accuracy: 0.8890 - val_precision_11: 0.9704 - val_recall_11: 0.8111\n",
            "Epoch 23/25\n",
            "277/277 [==============================] - 24s 88ms/step - loss: 0.0528 - accuracy: 0.9832 - precision_11: 0.9900 - recall_11: 0.9777 - val_loss: 0.6211 - val_accuracy: 0.8907 - val_precision_11: 0.9664 - val_recall_11: 0.8179\n",
            "Epoch 24/25\n",
            "277/277 [==============================] - 24s 88ms/step - loss: 0.0564 - accuracy: 0.9809 - precision_11: 0.9878 - recall_11: 0.9755 - val_loss: 0.7911 - val_accuracy: 0.8733 - val_precision_11: 0.9778 - val_recall_11: 0.7738\n",
            "Epoch 25/25\n",
            "277/277 [==============================] - 25s 89ms/step - loss: 0.0620 - accuracy: 0.9785 - precision_11: 0.9856 - recall_11: 0.9732 - val_loss: 0.7372 - val_accuracy: 0.8787 - val_precision_11: 0.9706 - val_recall_11: 0.7905\n",
            "2700/2700 [==============================] - 11s 4ms/step - loss: 0.7614 - accuracy: 0.8753 - precision_11: 0.9706 - recall_11: 0.7851\n",
            "Score for fold 4: loss=0.7614220976829529; accuracy=0.8753010034561157; precision_11=0.9706027507781982; recall_11=0.7850858569145203\n",
            "[[40178  1073]\n",
            " [ 9698 35427]] \n",
            "\n",
            "\n",
            "\n",
            "Fold 5 \n",
            "deceptive/genuine :  0.5970298720431134\n",
            "Epoch 1/25\n",
            "277/277 [==============================] - 25s 90ms/step - loss: 0.6453 - accuracy: 0.6224 - precision_12: 0.6394 - recall_12: 0.6373 - val_loss: 0.6325 - val_accuracy: 0.6403 - val_precision_12: 0.7185 - val_recall_12: 0.5083\n",
            "Epoch 2/25\n",
            "277/277 [==============================] - 25s 89ms/step - loss: 0.5924 - accuracy: 0.6778 - precision_12: 0.6992 - recall_12: 0.6736 - val_loss: 0.5754 - val_accuracy: 0.6892 - val_precision_12: 0.6866 - val_recall_12: 0.7414\n",
            "Epoch 3/25\n",
            "277/277 [==============================] - 25s 88ms/step - loss: 0.5101 - accuracy: 0.7469 - precision_12: 0.7734 - recall_12: 0.7299 - val_loss: 0.5311 - val_accuracy: 0.7373 - val_precision_12: 0.8155 - val_recall_12: 0.6402\n",
            "Epoch 4/25\n",
            "277/277 [==============================] - 24s 88ms/step - loss: 0.4292 - accuracy: 0.8026 - precision_12: 0.8328 - recall_12: 0.7787 - val_loss: 0.4802 - val_accuracy: 0.7733 - val_precision_12: 0.8210 - val_recall_12: 0.7220\n",
            "Epoch 5/25\n",
            "277/277 [==============================] - 24s 88ms/step - loss: 0.3596 - accuracy: 0.8444 - precision_12: 0.8748 - recall_12: 0.8198 - val_loss: 0.4507 - val_accuracy: 0.7991 - val_precision_12: 0.8472 - val_recall_12: 0.7492\n",
            "Epoch 6/25\n",
            "277/277 [==============================] - 24s 88ms/step - loss: 0.3026 - accuracy: 0.8752 - precision_12: 0.9050 - recall_12: 0.8506 - val_loss: 0.4736 - val_accuracy: 0.7992 - val_precision_12: 0.9216 - val_recall_12: 0.6714\n",
            "Epoch 7/25\n",
            "277/277 [==============================] - 24s 88ms/step - loss: 0.2572 - accuracy: 0.8983 - precision_12: 0.9272 - recall_12: 0.8741 - val_loss: 0.4145 - val_accuracy: 0.8338 - val_precision_12: 0.8819 - val_recall_12: 0.7859\n",
            "Epoch 8/25\n",
            "277/277 [==============================] - 24s 88ms/step - loss: 0.2191 - accuracy: 0.9158 - precision_12: 0.9420 - recall_12: 0.8939 - val_loss: 0.4415 - val_accuracy: 0.8388 - val_precision_12: 0.9303 - val_recall_12: 0.7463\n",
            "Epoch 9/25\n",
            "277/277 [==============================] - 24s 88ms/step - loss: 0.1874 - accuracy: 0.9303 - precision_12: 0.9537 - recall_12: 0.9109 - val_loss: 0.4342 - val_accuracy: 0.8451 - val_precision_12: 0.9037 - val_recall_12: 0.7862\n",
            "Epoch 10/25\n",
            "277/277 [==============================] - 24s 88ms/step - loss: 0.1590 - accuracy: 0.9421 - precision_12: 0.9630 - recall_12: 0.9249 - val_loss: 0.4108 - val_accuracy: 0.8605 - val_precision_12: 0.9029 - val_recall_12: 0.8203\n",
            "Epoch 11/25\n",
            "277/277 [==============================] - 24s 88ms/step - loss: 0.1384 - accuracy: 0.9503 - precision_12: 0.9687 - recall_12: 0.9353 - val_loss: 0.4127 - val_accuracy: 0.8667 - val_precision_12: 0.9065 - val_recall_12: 0.8295\n",
            "Epoch 12/25\n",
            "277/277 [==============================] - 24s 88ms/step - loss: 0.1225 - accuracy: 0.9568 - precision_12: 0.9728 - recall_12: 0.9437 - val_loss: 0.4669 - val_accuracy: 0.8671 - val_precision_12: 0.9527 - val_recall_12: 0.7836\n",
            "Epoch 13/25\n",
            "277/277 [==============================] - 24s 88ms/step - loss: 0.1079 - accuracy: 0.9618 - precision_12: 0.9764 - recall_12: 0.9500 - val_loss: 0.4385 - val_accuracy: 0.8742 - val_precision_12: 0.9183 - val_recall_12: 0.8325\n",
            "Epoch 14/25\n",
            "277/277 [==============================] - 24s 88ms/step - loss: 0.0908 - accuracy: 0.9688 - precision_12: 0.9813 - recall_12: 0.9586 - val_loss: 0.4632 - val_accuracy: 0.8802 - val_precision_12: 0.9508 - val_recall_12: 0.8119\n",
            "Epoch 15/25\n",
            "277/277 [==============================] - 24s 88ms/step - loss: 0.0818 - accuracy: 0.9721 - precision_12: 0.9836 - recall_12: 0.9626 - val_loss: 0.4971 - val_accuracy: 0.8790 - val_precision_12: 0.9494 - val_recall_12: 0.8108\n",
            "Epoch 16/25\n",
            "277/277 [==============================] - 25s 89ms/step - loss: 0.0772 - accuracy: 0.9735 - precision_12: 0.9836 - recall_12: 0.9655 - val_loss: 0.5673 - val_accuracy: 0.8726 - val_precision_12: 0.9678 - val_recall_12: 0.7813\n",
            "Epoch 17/25\n",
            "277/277 [==============================] - 25s 89ms/step - loss: 0.0706 - accuracy: 0.9758 - precision_12: 0.9849 - recall_12: 0.9686 - val_loss: 0.5502 - val_accuracy: 0.8788 - val_precision_12: 0.9528 - val_recall_12: 0.8071\n",
            "Epoch 18/25\n",
            "277/277 [==============================] - 25s 89ms/step - loss: 0.0721 - accuracy: 0.9751 - precision_12: 0.9838 - recall_12: 0.9683 - val_loss: 0.6146 - val_accuracy: 0.8746 - val_precision_12: 0.9673 - val_recall_12: 0.7857\n",
            "Epoch 19/25\n",
            "277/277 [==============================] - 25s 89ms/step - loss: 0.0647 - accuracy: 0.9780 - precision_12: 0.9860 - recall_12: 0.9718 - val_loss: 0.5346 - val_accuracy: 0.8879 - val_precision_12: 0.9504 - val_recall_12: 0.8278\n",
            "Epoch 20/25\n",
            "277/277 [==============================] - 25s 89ms/step - loss: 0.0595 - accuracy: 0.9802 - precision_12: 0.9876 - recall_12: 0.9744 - val_loss: 0.6967 - val_accuracy: 0.8722 - val_precision_12: 0.9782 - val_recall_12: 0.7717\n",
            "Epoch 21/25\n",
            "277/277 [==============================] - 25s 89ms/step - loss: 0.0568 - accuracy: 0.9811 - precision_12: 0.9884 - recall_12: 0.9753 - val_loss: 0.6013 - val_accuracy: 0.8876 - val_precision_12: 0.9664 - val_recall_12: 0.8124\n",
            "Epoch 22/25\n",
            "277/277 [==============================] - 25s 89ms/step - loss: 0.0580 - accuracy: 0.9805 - precision_12: 0.9873 - recall_12: 0.9751 - val_loss: 0.6088 - val_accuracy: 0.8844 - val_precision_12: 0.9548 - val_recall_12: 0.8166\n",
            "Epoch 23/25\n",
            "277/277 [==============================] - 25s 89ms/step - loss: 0.0607 - accuracy: 0.9792 - precision_12: 0.9858 - recall_12: 0.9742 - val_loss: 0.6350 - val_accuracy: 0.8875 - val_precision_12: 0.9711 - val_recall_12: 0.8080\n",
            "Epoch 24/25\n",
            "277/277 [==============================] - 25s 89ms/step - loss: 0.0526 - accuracy: 0.9824 - precision_12: 0.9887 - recall_12: 0.9776 - val_loss: 0.7775 - val_accuracy: 0.8741 - val_precision_12: 0.9801 - val_recall_12: 0.7739\n",
            "Epoch 25/25\n",
            "277/277 [==============================] - 25s 89ms/step - loss: 0.0454 - accuracy: 0.9857 - precision_12: 0.9914 - recall_12: 0.9812 - val_loss: 0.6366 - val_accuracy: 0.8932 - val_precision_12: 0.9642 - val_recall_12: 0.8254\n",
            "2700/2700 [==============================] - 11s 4ms/step - loss: 0.6270 - accuracy: 0.8950 - precision_12: 0.9654 - recall_12: 0.8287\n",
            "Score for fold 5: loss=0.6269870400428772; accuracy=0.8949708342552185; precision_12=0.9654041528701782; recall_12=0.8286537528038025\n",
            "[[39911  1340]\n",
            " [ 7732 37393]] \n",
            "\n",
            "\n",
            "\n"
          ],
          "name": "stdout"
        }
      ]
    },
    {
      "cell_type": "code",
      "metadata": {
        "id": "lOxoVzRsSQAd"
      },
      "source": [
        "from matplotlib import pyplot as plt\n",
        "for history in histories:\n",
        "  plt.plot(history.history['accuracy'])\n",
        "  plt.plot(history.history['val_accuracy'])\n",
        "  plt.title('model accuracy')\n",
        "  plt.ylabel('accuracy')\n",
        "  plt.xlabel('epoch')\n",
        "  plt.legend(['train', 'val','loss','val_loss'], loc='upper left')\n",
        "  plt.show()"
      ],
      "execution_count": null,
      "outputs": []
    },
    {
      "cell_type": "code",
      "metadata": {
        "id": "Ko70yU8BYwJC"
      },
      "source": [
        "embedding_layer = Embedding(vocabulary_size, embedding_dim,input_length=input_embedding_length, weights=[embedding_matrix],trainable=False)"
      ],
      "execution_count": null,
      "outputs": []
    },
    {
      "cell_type": "code",
      "metadata": {
        "id": "3Z0icTvQcS9q",
        "outputId": "59345fb6-12b0-4ef6-b900-a7b673e1227f",
        "colab": {
          "base_uri": "https://localhost:8080/",
          "height": 50
        }
      },
      "source": [
        "import tensorflow as tf\n",
        "import datetime\n",
        "import os\n",
        "%load_ext tensorboard\n",
        "logdir = os.path.join(\"logs\", datetime.datetime.now().strftime(\"%Y%m%d-%H%M%S\"))\n",
        "tensorboard_callback = tf.keras.callbacks.TensorBoard(logdir, histogram_freq=1)"
      ],
      "execution_count": null,
      "outputs": [
        {
          "output_type": "stream",
          "text": [
            "The tensorboard extension is already loaded. To reload it, use:\n",
            "  %reload_ext tensorboard\n"
          ],
          "name": "stdout"
        }
      ]
    },
    {
      "cell_type": "code",
      "metadata": {
        "id": "Lt4YfvDoZM1f",
        "outputId": "f79cf951-bca2-4725-e011-485f64fdb3fb",
        "colab": {
          "base_uri": "https://localhost:8080/",
          "height": 1000
        }
      },
      "source": [
        " from keras.layers import Dense, Input, LSTM, Embedding, Dropout, Activation\n",
        "from keras.layers import Bidirectional, GlobalMaxPool1D,Bidirectional\n",
        "from keras.models import Model\n",
        "from keras import initializers, regularizers, constraints, optimizers, layers\n",
        "def create_conv_model():\n",
        "    model_conv = Sequential()\n",
        "    model_conv.add(embedding_layer)\n",
        "    model_conv.add(Conv1D(100, 5, activation='relu'))\n",
        "    model_conv.add(Conv1D(100, 5, activation='relu'))\n",
        "    model_conv.add(Conv1D(40, 5, activation='relu'))\n",
        "    model_conv.add(Flatten())\n",
        "    model_conv.add(Dense(1, activation='sigmoid'))\n",
        "    model_conv.compile(loss='binary_crossentropy', optimizer='adam', metrics=['accuracy',Precision(),Recall()])\n",
        "    return model_conv\n",
        "\n",
        "model_bd = create_conv_model()\n",
        "model_bd.summary()\n",
        "history = model_bd.fit(X_train, y_train, batch_size=500 ,validation_split=0.3, epochs = 30)"
      ],
      "execution_count": null,
      "outputs": [
        {
          "output_type": "stream",
          "text": [
            "Model: \"sequential_6\"\n",
            "_________________________________________________________________\n",
            "Layer (type)                 Output Shape              Param #   \n",
            "=================================================================\n",
            "embedding_2 (Embedding)      (None, 300, 100)          3137400   \n",
            "_________________________________________________________________\n",
            "conv1d_16 (Conv1D)           (None, 296, 100)          50100     \n",
            "_________________________________________________________________\n",
            "conv1d_17 (Conv1D)           (None, 292, 100)          50100     \n",
            "_________________________________________________________________\n",
            "conv1d_18 (Conv1D)           (None, 288, 40)           20040     \n",
            "_________________________________________________________________\n",
            "flatten_6 (Flatten)          (None, 11520)             0         \n",
            "_________________________________________________________________\n",
            "dense_14 (Dense)             (None, 1)                 11521     \n",
            "=================================================================\n",
            "Total params: 3,269,161\n",
            "Trainable params: 131,761\n",
            "Non-trainable params: 3,137,400\n",
            "_________________________________________________________________\n",
            "Epoch 1/30\n",
            "605/605 [==============================] - 31s 51ms/step - loss: 0.6418 - accuracy: 0.6265 - precision_19: 0.6477 - recall_19: 0.6229 - val_loss: 0.6276 - val_accuracy: 0.6448 - val_precision_19: 0.6827 - val_recall_19: 0.5996\n",
            "Epoch 2/30\n",
            "605/605 [==============================] - 30s 50ms/step - loss: 0.6054 - accuracy: 0.6647 - precision_19: 0.6911 - recall_19: 0.6460 - val_loss: 0.5915 - val_accuracy: 0.6760 - val_precision_19: 0.6990 - val_recall_19: 0.6683\n",
            "Epoch 3/30\n",
            "605/605 [==============================] - 30s 50ms/step - loss: 0.5401 - accuracy: 0.7200 - precision_19: 0.7563 - recall_19: 0.6837 - val_loss: 0.5478 - val_accuracy: 0.7129 - val_precision_19: 0.7355 - val_recall_19: 0.7046\n",
            "Epoch 4/30\n",
            "605/605 [==============================] - 30s 50ms/step - loss: 0.4659 - accuracy: 0.7730 - precision_19: 0.8150 - recall_19: 0.7307 - val_loss: 0.5125 - val_accuracy: 0.7473 - val_precision_19: 0.8283 - val_recall_19: 0.6521\n",
            "Epoch 5/30\n",
            "605/605 [==============================] - 30s 50ms/step - loss: 0.4029 - accuracy: 0.8123 - precision_19: 0.8576 - recall_19: 0.7677 - val_loss: 0.4751 - val_accuracy: 0.7744 - val_precision_19: 0.8258 - val_recall_19: 0.7207\n",
            "Epoch 6/30\n",
            "605/605 [==============================] - 30s 50ms/step - loss: 0.3521 - accuracy: 0.8402 - precision_19: 0.8850 - recall_19: 0.7974 - val_loss: 0.4564 - val_accuracy: 0.7943 - val_precision_19: 0.8680 - val_recall_19: 0.7155\n",
            "Epoch 7/30\n",
            "605/605 [==============================] - 30s 50ms/step - loss: 0.3112 - accuracy: 0.8617 - precision_19: 0.9058 - recall_19: 0.8202 - val_loss: 0.4367 - val_accuracy: 0.8090 - val_precision_19: 0.8677 - val_recall_19: 0.7491\n",
            "Epoch 8/30\n",
            "605/605 [==============================] - 30s 50ms/step - loss: 0.2786 - accuracy: 0.8780 - precision_19: 0.9213 - recall_19: 0.8377 - val_loss: 0.4355 - val_accuracy: 0.8105 - val_precision_19: 0.8310 - val_recall_19: 0.8005\n",
            "Epoch 9/30\n",
            "605/605 [==============================] - 30s 50ms/step - loss: 0.2522 - accuracy: 0.8905 - precision_19: 0.9319 - recall_19: 0.8525 - val_loss: 0.4419 - val_accuracy: 0.8265 - val_precision_19: 0.9009 - val_recall_19: 0.7510\n",
            "Epoch 10/30\n",
            "605/605 [==============================] - 30s 50ms/step - loss: 0.2310 - accuracy: 0.9006 - precision_19: 0.9400 - recall_19: 0.8647 - val_loss: 0.4809 - val_accuracy: 0.8263 - val_precision_19: 0.9297 - val_recall_19: 0.7226\n",
            "Epoch 11/30\n",
            "605/605 [==============================] - 30s 50ms/step - loss: 0.2142 - accuracy: 0.9078 - precision_19: 0.9461 - recall_19: 0.8731 - val_loss: 0.4550 - val_accuracy: 0.8372 - val_precision_19: 0.9145 - val_recall_19: 0.7597\n",
            "Epoch 12/30\n",
            "605/605 [==============================] - 30s 50ms/step - loss: 0.1981 - accuracy: 0.9152 - precision_19: 0.9511 - recall_19: 0.8829 - val_loss: 0.4839 - val_accuracy: 0.8380 - val_precision_19: 0.9294 - val_recall_19: 0.7471\n",
            "Epoch 13/30\n",
            "605/605 [==============================] - 30s 50ms/step - loss: 0.1876 - accuracy: 0.9199 - precision_19: 0.9542 - recall_19: 0.8892 - val_loss: 0.4827 - val_accuracy: 0.8461 - val_precision_19: 0.9480 - val_recall_19: 0.7467\n",
            "Epoch 14/30\n",
            "605/605 [==============================] - 30s 50ms/step - loss: 0.1763 - accuracy: 0.9253 - precision_19: 0.9586 - recall_19: 0.8955 - val_loss: 0.4736 - val_accuracy: 0.8505 - val_precision_19: 0.9272 - val_recall_19: 0.7751\n",
            "Epoch 15/30\n",
            "605/605 [==============================] - 30s 50ms/step - loss: 0.1673 - accuracy: 0.9290 - precision_19: 0.9607 - recall_19: 0.9006 - val_loss: 0.4751 - val_accuracy: 0.8511 - val_precision_19: 0.9114 - val_recall_19: 0.7923\n",
            "Epoch 16/30\n",
            "605/605 [==============================] - 30s 50ms/step - loss: 0.1612 - accuracy: 0.9313 - precision_19: 0.9620 - recall_19: 0.9041 - val_loss: 0.5948 - val_accuracy: 0.8410 - val_precision_19: 0.9501 - val_recall_19: 0.7345\n",
            "Epoch 17/30\n",
            "605/605 [==============================] - 30s 50ms/step - loss: 0.1558 - accuracy: 0.9342 - precision_19: 0.9641 - recall_19: 0.9077 - val_loss: 0.5274 - val_accuracy: 0.8550 - val_precision_19: 0.9506 - val_recall_19: 0.7625\n",
            "Epoch 18/30\n",
            "605/605 [==============================] - 30s 50ms/step - loss: 0.1484 - accuracy: 0.9377 - precision_19: 0.9670 - recall_19: 0.9116 - val_loss: 0.5030 - val_accuracy: 0.8589 - val_precision_19: 0.9255 - val_recall_19: 0.7942\n",
            "Epoch 19/30\n",
            "605/605 [==============================] - 30s 50ms/step - loss: 0.1460 - accuracy: 0.9384 - precision_19: 0.9663 - recall_19: 0.9139 - val_loss: 0.5691 - val_accuracy: 0.8562 - val_precision_19: 0.9503 - val_recall_19: 0.7650\n",
            "Epoch 20/30\n",
            "605/605 [==============================] - 30s 50ms/step - loss: 0.1394 - accuracy: 0.9414 - precision_19: 0.9686 - recall_19: 0.9174 - val_loss: 0.5346 - val_accuracy: 0.8610 - val_precision_19: 0.9338 - val_recall_19: 0.7902\n",
            "Epoch 21/30\n",
            "605/605 [==============================] - 30s 50ms/step - loss: 0.1340 - accuracy: 0.9434 - precision_19: 0.9702 - recall_19: 0.9198 - val_loss: 0.5592 - val_accuracy: 0.8629 - val_precision_19: 0.9571 - val_recall_19: 0.7724\n",
            "Epoch 22/30\n",
            "605/605 [==============================] - 30s 50ms/step - loss: 0.1316 - accuracy: 0.9454 - precision_19: 0.9718 - recall_19: 0.9222 - val_loss: 0.5899 - val_accuracy: 0.8609 - val_precision_19: 0.9514 - val_recall_19: 0.7736\n",
            "Epoch 23/30\n",
            "605/605 [==============================] - 30s 50ms/step - loss: 0.1304 - accuracy: 0.9456 - precision_19: 0.9715 - recall_19: 0.9228 - val_loss: 0.5906 - val_accuracy: 0.8636 - val_precision_19: 0.9499 - val_recall_19: 0.7803\n",
            "Epoch 24/30\n",
            "605/605 [==============================] - 30s 50ms/step - loss: 0.1260 - accuracy: 0.9476 - precision_19: 0.9724 - recall_19: 0.9260 - val_loss: 0.5796 - val_accuracy: 0.8655 - val_precision_19: 0.9464 - val_recall_19: 0.7875\n",
            "Epoch 25/30\n",
            "605/605 [==============================] - 30s 50ms/step - loss: 0.1241 - accuracy: 0.9482 - precision_19: 0.9730 - recall_19: 0.9264 - val_loss: 0.6021 - val_accuracy: 0.8646 - val_precision_19: 0.9432 - val_recall_19: 0.7886\n",
            "Epoch 26/30\n",
            "605/605 [==============================] - 30s 50ms/step - loss: 0.1230 - accuracy: 0.9489 - precision_19: 0.9729 - recall_19: 0.9280 - val_loss: 0.5910 - val_accuracy: 0.8683 - val_precision_19: 0.9465 - val_recall_19: 0.7931\n",
            "Epoch 27/30\n",
            "605/605 [==============================] - 30s 50ms/step - loss: 0.1183 - accuracy: 0.9513 - precision_19: 0.9748 - recall_19: 0.9307 - val_loss: 0.6239 - val_accuracy: 0.8675 - val_precision_19: 0.9582 - val_recall_19: 0.7807\n",
            "Epoch 28/30\n",
            "605/605 [==============================] - 30s 50ms/step - loss: 0.1173 - accuracy: 0.9517 - precision_19: 0.9747 - recall_19: 0.9317 - val_loss: 0.6257 - val_accuracy: 0.8686 - val_precision_19: 0.9549 - val_recall_19: 0.7859\n",
            "Epoch 29/30\n",
            "605/605 [==============================] - 30s 49ms/step - loss: 0.1145 - accuracy: 0.9530 - precision_19: 0.9757 - recall_19: 0.9331 - val_loss: 0.6386 - val_accuracy: 0.8703 - val_precision_19: 0.9652 - val_recall_19: 0.7802\n",
            "Epoch 30/30\n",
            "605/605 [==============================] - 30s 49ms/step - loss: 0.1098 - accuracy: 0.9551 - precision_19: 0.9774 - recall_19: 0.9356 - val_loss: 0.6687 - val_accuracy: 0.8678 - val_precision_19: 0.9634 - val_recall_19: 0.7768\n"
          ],
          "name": "stdout"
        }
      ]
    },
    {
      "cell_type": "code",
      "metadata": {
        "id": "GuVJA352c0tf",
        "outputId": "dc239940-8bc9-4913-85f4-8b33f7aeec5b",
        "colab": {
          "base_uri": "https://localhost:8080/",
          "height": 295
        }
      },
      "source": [
        "from matplotlib import pyplot as plt\n",
        "def graph(history):\n",
        "  plt.plot(history.history['accuracy'])\n",
        "  plt.plot(history.history['val_accuracy'])\n",
        "  plt.plot(history.history['loss'])\n",
        "  plt.plot(history.history['val_loss'])\n",
        "  plt.title('model accuracy')\n",
        "  plt.ylabel('accuracy')\n",
        "  plt.xlabel('epoch')\n",
        "  plt.legend(['train', 'val','loss','val_loss'], loc='upper left')\n",
        "  plt.show()"
      ],
      "execution_count": null,
      "outputs": [
        {
          "output_type": "display_data",
          "data": {
            "image/png": "[encoded data removed]",
            "text/plain": [
              "<Figure size 432x288 with 1 Axes>"
            ]
          },
          "metadata": {
            "tags": [],
            "needs_background": "light"
          }
        }
      ]
    },
    {
      "cell_type": "code",
      "metadata": {
        "id": "E4WYTnx4el4e",
        "outputId": "8b8d20ea-95bb-4a4c-9b23-c66d6062511e",
        "colab": {
          "base_uri": "https://localhost:8080/",
          "height": 362
        }
      },
      "source": [
        "history = model.fit(preprocessed_data, np.array(labels), batch_size=1000 ,validation_split=0.3,epochs = 40,initial_epoch=30)"
      ],
      "execution_count": null,
      "outputs": [
        {
          "output_type": "stream",
          "text": [
            "Epoch 31/40\n",
            "303/303 [==============================] - 29s 95ms/step - loss: 0.0481 - accuracy: 0.9846 - precision_23: 0.9896 - recall_23: 0.9809 - val_loss: 0.6404 - val_accuracy: 0.8945 - val_precision_23: 0.9680 - val_recall_23: 0.8257\n",
            "Epoch 32/40\n",
            "303/303 [==============================] - 29s 95ms/step - loss: 0.0606 - accuracy: 0.9790 - precision_23: 0.9846 - recall_23: 0.9750 - val_loss: 0.6012 - val_accuracy: 0.9024 - val_precision_23: 0.9690 - val_recall_23: 0.8403\n",
            "Epoch 33/40\n",
            "303/303 [==============================] - 29s 94ms/step - loss: 0.0533 - accuracy: 0.9824 - precision_23: 0.9880 - recall_23: 0.9781 - val_loss: 0.6331 - val_accuracy: 0.9006 - val_precision_23: 0.9762 - val_recall_23: 0.8303\n",
            "Epoch 34/40\n",
            "303/303 [==============================] - 29s 94ms/step - loss: 0.0380 - accuracy: 0.9879 - precision_23: 0.9925 - recall_23: 0.9843 - val_loss: 0.6161 - val_accuracy: 0.9105 - val_precision_23: 0.9873 - val_recall_23: 0.8397\n",
            "Epoch 35/40\n",
            "303/303 [==============================] - 29s 94ms/step - loss: 0.0305 - accuracy: 0.9916 - precision_23: 0.9953 - recall_23: 0.9885 - val_loss: 0.6476 - val_accuracy: 0.9078 - val_precision_23: 0.9878 - val_recall_23: 0.8341\n",
            "Epoch 36/40\n",
            "303/303 [==============================] - 29s 94ms/step - loss: 0.0292 - accuracy: 0.9921 - precision_23: 0.9958 - recall_23: 0.9890 - val_loss: 0.6658 - val_accuracy: 0.9076 - val_precision_23: 0.9874 - val_recall_23: 0.8340\n",
            "Epoch 37/40\n",
            "303/303 [==============================] - 29s 94ms/step - loss: 0.0336 - accuracy: 0.9901 - precision_23: 0.9939 - recall_23: 0.9872 - val_loss: 0.6347 - val_accuracy: 0.9038 - val_precision_23: 0.9668 - val_recall_23: 0.8451\n",
            "Epoch 38/40\n",
            "303/303 [==============================] - 29s 95ms/step - loss: 0.0716 - accuracy: 0.9757 - precision_23: 0.9809 - recall_23: 0.9725 - val_loss: 0.6965 - val_accuracy: 0.8968 - val_precision_23: 0.9729 - val_recall_23: 0.8257\n",
            "Epoch 39/40\n",
            "303/303 [==============================] - 29s 94ms/step - loss: 0.0516 - accuracy: 0.9829 - precision_23: 0.9878 - recall_23: 0.9794 - val_loss: 0.7231 - val_accuracy: 0.9011 - val_precision_23: 0.9875 - val_recall_23: 0.8213\n",
            "Epoch 40/40\n",
            "303/303 [==============================] - 29s 94ms/step - loss: 0.0306 - accuracy: 0.9912 - precision_23: 0.9949 - recall_23: 0.9881 - val_loss: 0.6671 - val_accuracy: 0.9112 - val_precision_23: 0.9877 - val_recall_23: 0.8408\n"
          ],
          "name": "stdout"
        }
      ]
    },
    {
      "cell_type": "code",
      "metadata": {
        "id": "NrxA1XxZZ6hM",
        "outputId": "739234d4-22ef-4b78-c57c-8993818bf17d",
        "colab": {
          "base_uri": "https://localhost:8080/",
          "height": 50
        }
      },
      "source": [
        "model_bd.evaluate(X_test,y_test)"
      ],
      "execution_count": null,
      "outputs": [
        {
          "output_type": "stream",
          "text": [
            "5785/5785 [==============================] - 25s 4ms/step - loss: 0.6587 - accuracy: 0.8687 - precision_19: 0.9635 - recall_19: 0.7778\n"
          ],
          "name": "stdout"
        },
        {
          "output_type": "execute_result",
          "data": {
            "text/plain": [
              "[0.6587020754814148, 0.868650496006012, 0.9634549617767334, 0.7778214812278748]"
            ]
          },
          "metadata": {
            "tags": []
          },
          "execution_count": 37
        }
      ]
    },
    {
      "cell_type": "code",
      "metadata": {
        "id": "Xqi8oiuMIkzu",
        "outputId": "2483abca-a44d-4902-9024-edd7858cf447",
        "colab": {
          "base_uri": "https://localhost:8080/",
          "height": 50
        }
      },
      "source": [
        "from sklearn.metrics import confusion_matrix\n",
        "p=model_bd.predict(X_test)\n",
        "confusion_matrix(y_test,p.round())"
      ],
      "execution_count": null,
      "outputs": [
        {
          "output_type": "execute_result",
          "data": {
            "text/plain": [
              "array([[85646,  2850],\n",
              "       [21462, 75136]])"
            ]
          },
          "metadata": {
            "tags": []
          },
          "execution_count": 41
        }
      ]
    },
    {
      "cell_type": "code",
      "metadata": {
        "id": "VD97yN8_I23G",
        "outputId": "b68db7cd-7586-4238-dbf2-1c23cae7bcbe",
        "colab": {
          "base_uri": "https://localhost:8080/",
          "height": 358
        }
      },
      "source": [
        "from keras.models import model_from_json\n",
        "json_file = open(model_path+'modelA90.json', 'r')\n",
        "loaded_model_json = json_file.read()\n",
        "json_file.close()\n",
        "loaded_model = model_from_json(loaded_model_json)\n",
        "# load weights into new model\n",
        "loaded_model.load_weights(model_path+\"modelA90.h5\")\n",
        "\n",
        "loaded_model.compile(loss='binary_crossentropy', optimizer='adam', metrics=['accuracy',Precision(),Recall()])\n",
        "loaded_model.summary()\n",
        "print(\"Loaded model from disk\")"
      ],
      "execution_count": null,
      "outputs": [
        {
          "output_type": "stream",
          "text": [
            "Model: \"sequential_8\"\n",
            "_________________________________________________________________\n",
            "Layer (type)                 Output Shape              Param #   \n",
            "=================================================================\n",
            "embedding_7 (Embedding)      (None, 300, 100)          3139800   \n",
            "_________________________________________________________________\n",
            "conv1d_19 (Conv1D)           (None, 296, 100)          50100     \n",
            "_________________________________________________________________\n",
            "conv1d_20 (Conv1D)           (None, 292, 100)          50100     \n",
            "_________________________________________________________________\n",
            "conv1d_21 (Conv1D)           (None, 288, 40)           20040     \n",
            "_________________________________________________________________\n",
            "flatten_7 (Flatten)          (None, 11520)             0         \n",
            "_________________________________________________________________\n",
            "dense_15 (Dense)             (None, 1)                 11521     \n",
            "=================================================================\n",
            "Total params: 3,271,561\n",
            "Trainable params: 131,761\n",
            "Non-trainable params: 3,139,800\n",
            "_________________________________________________________________\n",
            "Loaded model from disk\n"
          ],
          "name": "stdout"
        }
      ]
    },
    {
      "cell_type": "code",
      "metadata": {
        "id": "Ax8-dMTLJxjY",
        "outputId": "e0aba92b-c57a-4ac7-fedf-8aa79f7637c2",
        "colab": {
          "base_uri": "https://localhost:8080/",
          "height": 98
        }
      },
      "source": [
        "loaded_model.evaluate(X_test,y_test)"
      ],
      "execution_count": null,
      "outputs": [
        {
          "output_type": "stream",
          "text": [
            "5785/5785 [==============================] - 25s 4ms/step - loss: 0.4114 - accuracy: 0.8955 - precision_25: 0.9708 - recall_25: 0.8243\n"
          ],
          "name": "stdout"
        },
        {
          "output_type": "execute_result",
          "data": {
            "text/plain": [
              "[0.41141387820243835,\n",
              " 0.8954639434814453,\n",
              " 0.9707573056221008,\n",
              " 0.8243066668510437]"
            ]
          },
          "metadata": {
            "tags": []
          },
          "execution_count": 92
        }
      ]
    },
    {
      "cell_type": "code",
      "metadata": {
        "id": "6sMH_CREJ2hw"
      },
      "source": [
        "loaded_model.get_weights()"
      ],
      "execution_count": null,
      "outputs": []
    },
    {
      "cell_type": "code",
      "metadata": {
        "id": "2hHCTrj-MzJ3"
      },
      "source": [
        ""
      ],
      "execution_count": null,
      "outputs": []
    }
  ]
}